{
 "cells": [
  {
   "cell_type": "code",
   "id": "initial_id",
   "metadata": {
    "collapsed": true,
    "ExecuteTime": {
     "end_time": "2025-09-21T09:52:38.380890Z",
     "start_time": "2025-09-21T09:52:38.326142Z"
    }
   },
   "source": [
    "from torch.utils.data import Dataset\n",
    "from PIL import Image"
   ],
   "outputs": [],
   "execution_count": 6
  },
  {
   "metadata": {
    "ExecuteTime": {
     "end_time": "2025-09-21T09:54:53.154949Z",
     "start_time": "2025-09-21T09:54:53.150052Z"
    }
   },
   "cell_type": "code",
   "source": "img_path = \"dataset/train/ants/0013035.jpg\"",
   "id": "1470eb72d8b8135a",
   "outputs": [],
   "execution_count": 7
  },
  {
   "metadata": {
    "ExecuteTime": {
     "end_time": "2025-09-21T09:55:11.454752Z",
     "start_time": "2025-09-21T09:55:11.413224Z"
    }
   },
   "cell_type": "code",
   "source": "img = Image.open(img_path)",
   "id": "6b85821c8675b990",
   "outputs": [],
   "execution_count": 8
  },
  {
   "metadata": {},
   "cell_type": "code",
   "outputs": [],
   "execution_count": null,
   "source": "",
   "id": "d611f789ee15b323"
  }
 ],
 "metadata": {
  "kernelspec": {
   "display_name": "Python 3",
   "language": "python",
   "name": "python3"
  },
  "language_info": {
   "codemirror_mode": {
    "name": "ipython",
    "version": 2
   },
   "file_extension": ".py",
   "mimetype": "text/x-python",
   "name": "python",
   "nbconvert_exporter": "python",
   "pygments_lexer": "ipython2",
   "version": "2.7.6"
  }
 },
 "nbformat": 4,
 "nbformat_minor": 5
}
