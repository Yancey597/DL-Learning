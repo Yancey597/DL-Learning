{
 "cells": [
  {
   "cell_type": "code",
   "id": "initial_id",
   "metadata": {
    "collapsed": true,
    "ExecuteTime": {
     "end_time": "2025-10-07T13:18:33.750990Z",
     "start_time": "2025-10-07T13:18:33.461738Z"
    }
   },
   "source": "import numpy as np",
   "outputs": [],
   "execution_count": 3
  },
  {
   "metadata": {},
   "cell_type": "markdown",
   "source": [
    "# 1. 数组创建\n",
    "```python\n",
    "np.array([1, 2, 3])           # 从列表创建\n",
    "np.zeros((2, 3))              # 全 0 数组\n",
    "np.ones((3, 3))               # 全 1 数组\n",
    "np.full((2, 2), 7)            # 全部填充 7\n",
    "np.eye(3)                     # 单位矩阵\n",
    "np.arange(0, 10, 2)           # 0~10 步长为 2\n",
    "np.linspace(0, 1, 5)          # 等间隔分成 5 个数\n",
    "np.random.rand(2, 3)          # [0,1) 均匀分布\n",
    "np.random.randn(3, 3)         # 标准正态分布\n",
    "np.random.randint(1, 10, (2,2)) # 随机整数\n",
    "```"
   ],
   "id": "58b87438b87bf01f"
  },
  {
   "metadata": {
    "ExecuteTime": {
     "end_time": "2025-10-07T13:18:37.058470Z",
     "start_time": "2025-10-07T13:18:37.012415Z"
    }
   },
   "cell_type": "code",
   "source": "a = np.random.randint(1,100,(2,2))",
   "id": "5b47d2b8ed1dc370",
   "outputs": [],
   "execution_count": 4
  },
  {
   "metadata": {
    "ExecuteTime": {
     "end_time": "2025-10-07T13:18:38.405120Z",
     "start_time": "2025-10-07T13:18:38.397895Z"
    }
   },
   "cell_type": "code",
   "source": "print(a)",
   "id": "5c40a9a54af4ab9c",
   "outputs": [
    {
     "name": "stdout",
     "output_type": "stream",
     "text": [
      "[[45 81]\n",
      " [20 92]]\n"
     ]
    }
   ],
   "execution_count": 5
  },
  {
   "metadata": {},
   "cell_type": "markdown",
   "source": [
    "# 2. 数组属性\n",
    "```python\n",
    "a.shape        # 形状 (行数, 列数)\n",
    "a.ndim         # 维度\n",
    "a.size         # 元素总数\n",
    "a.dtype        # 数据类型\n",
    "```\n"
   ],
   "id": "780c1fe5af9ed4cd"
  },
  {
   "metadata": {
    "ExecuteTime": {
     "end_time": "2025-09-22T13:04:02.552622Z",
     "start_time": "2025-09-22T13:04:02.543624Z"
    }
   },
   "cell_type": "code",
   "source": "a.shape",
   "id": "5edda822f8662ca7",
   "outputs": [
    {
     "data": {
      "text/plain": [
       "(2, 2)"
      ]
     },
     "execution_count": 28,
     "metadata": {},
     "output_type": "execute_result"
    }
   ],
   "execution_count": 28
  },
  {
   "metadata": {
    "ExecuteTime": {
     "end_time": "2025-09-22T13:04:11.816087Z",
     "start_time": "2025-09-22T13:04:11.810086Z"
    }
   },
   "cell_type": "code",
   "source": "a.ndim",
   "id": "103be1b35367d906",
   "outputs": [
    {
     "data": {
      "text/plain": [
       "2"
      ]
     },
     "execution_count": 29,
     "metadata": {},
     "output_type": "execute_result"
    }
   ],
   "execution_count": 29
  },
  {
   "metadata": {
    "ExecuteTime": {
     "end_time": "2025-09-22T13:04:16.224235Z",
     "start_time": "2025-09-22T13:04:16.218238Z"
    }
   },
   "cell_type": "code",
   "source": "a.size",
   "id": "a3715f666192c515",
   "outputs": [
    {
     "data": {
      "text/plain": [
       "4"
      ]
     },
     "execution_count": 30,
     "metadata": {},
     "output_type": "execute_result"
    }
   ],
   "execution_count": 30
  },
  {
   "metadata": {
    "ExecuteTime": {
     "end_time": "2025-09-22T13:04:24.180117Z",
     "start_time": "2025-09-22T13:04:24.173395Z"
    }
   },
   "cell_type": "code",
   "source": "a.dtype",
   "id": "b11c56e9c92de23c",
   "outputs": [
    {
     "data": {
      "text/plain": [
       "dtype('int32')"
      ]
     },
     "execution_count": 31,
     "metadata": {},
     "output_type": "execute_result"
    }
   ],
   "execution_count": 31
  },
  {
   "metadata": {},
   "cell_type": "markdown",
   "source": [
    "# 3. 索引与切片\n",
    "```python\n",
    "a[0]          # 第一个元素\n",
    "a[-1]         # 最后一个元素\n",
    "a[1:4]        # 第2到第4个\n",
    "a[:, 0]       # 取所有行的第1列\n",
    "a[0, :]       # 取第一行\n",
    "a[1:3, 0:2]   # 行切片 + 列切片\n",
    "\n",
    "```\n"
   ],
   "id": "d7cd834139a34bf1"
  },
  {
   "metadata": {
    "ExecuteTime": {
     "end_time": "2025-09-22T13:06:29.984498Z",
     "start_time": "2025-09-22T13:06:29.980710Z"
    }
   },
   "cell_type": "code",
   "source": "a = np.random.randint(1,10,(6,6))",
   "id": "839bd1a89e2ccc70",
   "outputs": [],
   "execution_count": 40
  },
  {
   "metadata": {
    "ExecuteTime": {
     "end_time": "2025-09-22T13:06:31.057099Z",
     "start_time": "2025-09-22T13:06:31.051773Z"
    }
   },
   "cell_type": "code",
   "source": [
    "\n",
    "a"
   ],
   "id": "8f62c7f335e97741",
   "outputs": [
    {
     "data": {
      "text/plain": [
       "array([[3, 3, 8, 7, 8, 1],\n",
       "       [4, 4, 3, 3, 8, 6],\n",
       "       [6, 2, 3, 1, 3, 9],\n",
       "       [8, 9, 4, 7, 8, 6],\n",
       "       [9, 5, 9, 7, 9, 8],\n",
       "       [6, 2, 8, 9, 1, 9]], dtype=int32)"
      ]
     },
     "execution_count": 41,
     "metadata": {},
     "output_type": "execute_result"
    }
   ],
   "execution_count": 41
  },
  {
   "metadata": {},
   "cell_type": "markdown",
   "source": [
    "# 4. 常用函数\n",
    "```python\n",
    "np.mean(a)     # 均值\n",
    "np.median(a)   # 中位数\n",
    "np.std(a)      # 标准差\n",
    "np.var(a)      # 方差\n",
    "np.min(a)      # 最小值\n",
    "np.max(a)      # 最大值\n",
    "np.sum(a)      # 总和\n",
    "np.prod(a)     # 元素连乘\n",
    "np.argmax(a)   # 最大值索引\n",
    "np.argmin(a)   # 最小值索引\n",
    "np.sort(a)     # 排序\n",
    "```\n"
   ],
   "id": "d21905452d002479"
  },
  {
   "metadata": {
    "ExecuteTime": {
     "end_time": "2025-09-22T13:09:15.639975Z",
     "start_time": "2025-09-22T13:09:15.633978Z"
    }
   },
   "cell_type": "code",
   "source": "np.argmax(a)",
   "id": "c3149d53d21fab11",
   "outputs": [
    {
     "data": {
      "text/plain": [
       "np.int64(17)"
      ]
     },
     "execution_count": 47,
     "metadata": {},
     "output_type": "execute_result"
    }
   ],
   "execution_count": 47
  },
  {
   "metadata": {
    "ExecuteTime": {
     "end_time": "2025-09-22T13:09:40.918814Z",
     "start_time": "2025-09-22T13:09:40.911970Z"
    }
   },
   "cell_type": "code",
   "source": "np.sort(a)",
   "id": "dc7016b121df5b6a",
   "outputs": [
    {
     "data": {
      "text/plain": [
       "array([[1, 3, 3, 7, 8, 8],\n",
       "       [3, 3, 4, 4, 6, 8],\n",
       "       [1, 2, 3, 3, 6, 9],\n",
       "       [4, 6, 7, 8, 8, 9],\n",
       "       [5, 7, 8, 9, 9, 9],\n",
       "       [1, 2, 6, 8, 9, 9]], dtype=int32)"
      ]
     },
     "execution_count": 48,
     "metadata": {},
     "output_type": "execute_result"
    }
   ],
   "execution_count": 48
  },
  {
   "metadata": {},
   "cell_type": "markdown",
   "source": [
    "# 5. 数组变形与拼接\n",
    "```python\n",
    "a.reshape(3, 2)        # 改变形状\n",
    "a.flatten()            # 拉直为一维\n",
    "a.ravel()              # 类似 flatten，但返回视图\n",
    "np.concatenate([a, b]) # 拼接\n",
    "np.vstack([a, b])      # 按行堆叠\n",
    "np.hstack([a, b])      # 按列堆叠\n",
    "```"
   ],
   "id": "58867d7ab691fbd4"
  },
  {
   "metadata": {
    "ExecuteTime": {
     "end_time": "2025-09-22T13:15:33.290636Z",
     "start_time": "2025-09-22T13:15:33.286567Z"
    }
   },
   "cell_type": "code",
   "source": "a = np.arange(6)",
   "id": "54b20e052223d97e",
   "outputs": [],
   "execution_count": 72
  },
  {
   "metadata": {
    "ExecuteTime": {
     "end_time": "2025-09-22T13:15:40.426772Z",
     "start_time": "2025-09-22T13:15:40.422745Z"
    }
   },
   "cell_type": "code",
   "source": "a = a.reshape((3,2))",
   "id": "43bc327e0773abf6",
   "outputs": [],
   "execution_count": 74
  },
  {
   "metadata": {
    "ExecuteTime": {
     "end_time": "2025-09-22T13:14:11.943692Z",
     "start_time": "2025-09-22T13:14:11.939863Z"
    }
   },
   "cell_type": "code",
   "source": "b = np.arange(2,8).reshape((3,2))",
   "id": "2c719ff8f9843612",
   "outputs": [],
   "execution_count": 54
  },
  {
   "metadata": {
    "ExecuteTime": {
     "end_time": "2025-09-22T13:15:43.251589Z",
     "start_time": "2025-09-22T13:15:43.245596Z"
    }
   },
   "cell_type": "code",
   "source": "a",
   "id": "3307ad8c19997d33",
   "outputs": [
    {
     "data": {
      "text/plain": [
       "array([[0, 1],\n",
       "       [2, 3],\n",
       "       [4, 5]])"
      ]
     },
     "execution_count": 75,
     "metadata": {},
     "output_type": "execute_result"
    }
   ],
   "execution_count": 75
  },
  {
   "metadata": {
    "ExecuteTime": {
     "end_time": "2025-09-22T13:15:45.348061Z",
     "start_time": "2025-09-22T13:15:45.343059Z"
    }
   },
   "cell_type": "code",
   "source": "np.vstack([a,b]) #vertical 垂直的 垂直拼接需要同列",
   "id": "9ab1eeb6f9d1556f",
   "outputs": [
    {
     "data": {
      "text/plain": [
       "array([[0, 1],\n",
       "       [2, 3],\n",
       "       [4, 5],\n",
       "       [2, 3],\n",
       "       [4, 5],\n",
       "       [6, 7]])"
      ]
     },
     "execution_count": 76,
     "metadata": {},
     "output_type": "execute_result"
    }
   ],
   "execution_count": 76
  },
  {
   "metadata": {},
   "cell_type": "code",
   "outputs": [],
   "execution_count": null,
   "source": "np.hstack([a,b]) #horizon 水平的 水平拼接需要同列\n",
   "id": "56ae3ed683c46ffa"
  },
  {
   "metadata": {},
   "cell_type": "markdown",
   "source": "# 数组的拆分",
   "id": "69f1d21a289a0d23"
  },
  {
   "metadata": {
    "ExecuteTime": {
     "end_time": "2025-10-07T13:18:20.168526Z",
     "start_time": "2025-10-07T13:18:20.158789Z"
    }
   },
   "cell_type": "code",
   "source": "%%whos",
   "id": "466af6502035312d",
   "outputs": [
    {
     "name": "stderr",
     "output_type": "stream",
     "text": [
      "UsageError: Cell magic `%%whos` not found (But line magic `%whos` exists, did you mean that instead?).\n"
     ]
    }
   ],
   "execution_count": 1
  },
  {
   "metadata": {
    "ExecuteTime": {
     "end_time": "2025-10-07T13:18:22.686462Z",
     "start_time": "2025-10-07T13:18:22.680285Z"
    }
   },
   "cell_type": "code",
   "source": "%%magic",
   "id": "78112325b015360a",
   "outputs": [
    {
     "name": "stderr",
     "output_type": "stream",
     "text": [
      "UsageError: Cell magic `%%magic` not found (But line magic `%magic` exists, did you mean that instead?).\n"
     ]
    }
   ],
   "execution_count": 2
  },
  {
   "metadata": {
    "ExecuteTime": {
     "end_time": "2025-10-07T13:18:52.246243Z",
     "start_time": "2025-10-07T13:18:52.240631Z"
    }
   },
   "cell_type": "code",
   "source": "%whos",
   "id": "7371ea6ea0124c7",
   "outputs": [
    {
     "name": "stdout",
     "output_type": "stream",
     "text": [
      "Variable                        Type        Data/Info\n",
      "-----------------------------------------------------\n",
      "a                               ndarray     2x2: 4 elems, type `int32`, 16 bytes\n",
      "np                              module      <module 'numpy' from 'G:\\<...>ges\\\\numpy\\\\__init__.py'>\n",
      "pydev_jupyter_vars              module      <module 'pydev_jupyter_va<...>\\\\pydev_jupyter_vars.py'>\n",
      "remove_imported_pydev_package   function    <function remove_imported<...>ge at 0x000001D4B1AF3C40>\n",
      "sys                             module      <module 'sys' (built-in)>\n"
     ]
    }
   ],
   "execution_count": 6
  },
  {
   "metadata": {
    "ExecuteTime": {
     "end_time": "2025-10-07T13:18:56.156814Z",
     "start_time": "2025-10-07T13:18:56.145152Z"
    }
   },
   "cell_type": "code",
   "source": "a",
   "id": "a42bed68c81168d9",
   "outputs": [
    {
     "data": {
      "text/plain": [
       "array([[45, 81],\n",
       "       [20, 92]], dtype=int32)"
      ]
     },
     "execution_count": 7,
     "metadata": {},
     "output_type": "execute_result"
    }
   ],
   "execution_count": 7
  },
  {
   "metadata": {
    "ExecuteTime": {
     "end_time": "2025-10-07T13:19:49.346973Z",
     "start_time": "2025-10-07T13:19:49.338498Z"
    }
   },
   "cell_type": "code",
   "source": "np.split(a,[1],axis=1)",
   "id": "d05a7ef2d61274c6",
   "outputs": [
    {
     "data": {
      "text/plain": [
       "[array([[45],\n",
       "        [20]], dtype=int32),\n",
       " array([[81],\n",
       "        [92]], dtype=int32)]"
      ]
     },
     "execution_count": 10,
     "metadata": {},
     "output_type": "execute_result"
    }
   ],
   "execution_count": 10
  },
  {
   "metadata": {
    "ExecuteTime": {
     "end_time": "2025-10-07T13:20:11.569361Z",
     "start_time": "2025-10-07T13:20:11.562785Z"
    }
   },
   "cell_type": "code",
   "source": "np.hsplit(a,[1])",
   "id": "a7ffa4e457885dfc",
   "outputs": [
    {
     "data": {
      "text/plain": [
       "[array([[45],\n",
       "        [20]], dtype=int32),\n",
       " array([[81],\n",
       "        [92]], dtype=int32)]"
      ]
     },
     "execution_count": 11,
     "metadata": {},
     "output_type": "execute_result"
    }
   ],
   "execution_count": 11
  },
  {
   "metadata": {
    "ExecuteTime": {
     "end_time": "2025-10-07T13:20:30.277902Z",
     "start_time": "2025-10-07T13:20:30.271040Z"
    }
   },
   "cell_type": "code",
   "source": "np.vsplit(a,[1])",
   "id": "74a71deea5aa2852",
   "outputs": [
    {
     "data": {
      "text/plain": [
       "[array([[45, 81]], dtype=int32), array([[20, 92]], dtype=int32)]"
      ]
     },
     "execution_count": 12,
     "metadata": {},
     "output_type": "execute_result"
    }
   ],
   "execution_count": 12
  },
  {
   "metadata": {
    "ExecuteTime": {
     "end_time": "2025-10-07T13:20:39.248359Z",
     "start_time": "2025-10-07T13:20:39.244384Z"
    }
   },
   "cell_type": "code",
   "source": "a,b = np.split(a,[1],axis=1)",
   "id": "65509c3c0103e92b",
   "outputs": [],
   "execution_count": 13
  },
  {
   "metadata": {
    "ExecuteTime": {
     "end_time": "2025-10-07T13:20:42.597913Z",
     "start_time": "2025-10-07T13:20:42.590874Z"
    }
   },
   "cell_type": "code",
   "source": "a,b",
   "id": "2173a60f496fd9a0",
   "outputs": [
    {
     "data": {
      "text/plain": [
       "(array([[45],\n",
       "        [20]], dtype=int32),\n",
       " array([[81],\n",
       "        [92]], dtype=int32))"
      ]
     },
     "execution_count": 14,
     "metadata": {},
     "output_type": "execute_result"
    }
   ],
   "execution_count": 14
  },
  {
   "metadata": {
    "ExecuteTime": {
     "end_time": "2025-10-07T13:21:12.443913Z",
     "start_time": "2025-10-07T13:21:12.436807Z"
    }
   },
   "cell_type": "code",
   "source": [
    "%%writefile test.py\n",
    "print(\"hello world\")"
   ],
   "id": "8dc3f3e8fa861e4c",
   "outputs": [
    {
     "name": "stdout",
     "output_type": "stream",
     "text": [
      "Writing test.py\n"
     ]
    }
   ],
   "execution_count": 16
  },
  {
   "metadata": {
    "ExecuteTime": {
     "end_time": "2025-10-07T13:21:26.785391Z",
     "start_time": "2025-10-07T13:21:26.778843Z"
    }
   },
   "cell_type": "code",
   "source": "%run test.py",
   "id": "3f9e5743066bcf2d",
   "outputs": [
    {
     "name": "stdout",
     "output_type": "stream",
     "text": [
      "hello world\n"
     ]
    }
   ],
   "execution_count": 17
  },
  {
   "metadata": {
    "ExecuteTime": {
     "end_time": "2025-10-07T13:23:01.927142Z",
     "start_time": "2025-10-07T13:23:01.921575Z"
    }
   },
   "cell_type": "code",
   "source": [
    "n = 5\n",
    "x = [i for i in range(n)]"
   ],
   "id": "57e6850193575c8e",
   "outputs": [],
   "execution_count": 22
  },
  {
   "metadata": {
    "ExecuteTime": {
     "end_time": "2025-10-07T13:23:03.586254Z",
     "start_time": "2025-10-07T13:23:03.580744Z"
    }
   },
   "cell_type": "code",
   "source": "x",
   "id": "b6f0bb15a1665406",
   "outputs": [
    {
     "data": {
      "text/plain": [
       "[0, 1, 2, 3, 4]"
      ]
     },
     "execution_count": 23,
     "metadata": {},
     "output_type": "execute_result"
    }
   ],
   "execution_count": 23
  },
  {
   "metadata": {},
   "cell_type": "markdown",
   "source": "# 排序",
   "id": "7cd803d8f77b7824"
  },
  {
   "metadata": {
    "ExecuteTime": {
     "end_time": "2025-10-07T13:42:11.093128Z",
     "start_time": "2025-10-07T13:42:11.088716Z"
    }
   },
   "cell_type": "code",
   "source": "x = np.random.randint(1,100,12).reshape(3,4)",
   "id": "99e8cc6d899c3d73",
   "outputs": [],
   "execution_count": 50
  },
  {
   "metadata": {
    "ExecuteTime": {
     "end_time": "2025-10-07T13:34:59.756522Z",
     "start_time": "2025-10-07T13:34:59.750459Z"
    }
   },
   "cell_type": "code",
   "source": "x",
   "id": "55819df8744e8b04",
   "outputs": [
    {
     "data": {
      "text/plain": [
       "array([[15, 80, 83, 91],\n",
       "       [ 2, 34, 74, 88],\n",
       "       [ 9, 19, 43, 69]], dtype=int32)"
      ]
     },
     "execution_count": 35,
     "metadata": {},
     "output_type": "execute_result"
    }
   ],
   "execution_count": 35
  },
  {
   "metadata": {
    "ExecuteTime": {
     "end_time": "2025-10-07T13:33:57.112165Z",
     "start_time": "2025-10-07T13:33:57.106156Z"
    }
   },
   "cell_type": "code",
   "source": "x.sort()",
   "id": "1d70935e91bda02a",
   "outputs": [],
   "execution_count": 32
  },
  {
   "metadata": {
    "ExecuteTime": {
     "end_time": "2025-10-07T13:35:31.953760Z",
     "start_time": "2025-10-07T13:35:31.947970Z"
    }
   },
   "cell_type": "code",
   "source": "np.sort(x,axis=1) #按列排序",
   "id": "5312a578e6e1a5e",
   "outputs": [
    {
     "data": {
      "text/plain": [
       "array([[15, 80, 83, 91],\n",
       "       [ 2, 34, 74, 88],\n",
       "       [ 9, 19, 43, 69]], dtype=int32)"
      ]
     },
     "execution_count": 37,
     "metadata": {},
     "output_type": "execute_result"
    }
   ],
   "execution_count": 37
  },
  {
   "metadata": {
    "ExecuteTime": {
     "end_time": "2025-10-07T13:35:44.413339Z",
     "start_time": "2025-10-07T13:35:44.405803Z"
    }
   },
   "cell_type": "code",
   "source": "np.argsort(x,axis=1)",
   "id": "71cefa8ac9c4dbce",
   "outputs": [
    {
     "data": {
      "text/plain": [
       "array([[0, 1, 2, 3],\n",
       "       [0, 1, 2, 3],\n",
       "       [0, 1, 2, 3]])"
      ]
     },
     "execution_count": 38,
     "metadata": {},
     "output_type": "execute_result"
    }
   ],
   "execution_count": 38
  },
  {
   "metadata": {
    "ExecuteTime": {
     "end_time": "2025-10-07T13:41:15.700441Z",
     "start_time": "2025-10-07T13:41:15.694955Z"
    }
   },
   "cell_type": "code",
   "source": "x.reshape(2,-1)",
   "id": "70904d1e93fefaa1",
   "outputs": [
    {
     "data": {
      "text/plain": [
       "array([[15, 80, 83, 91,  2, 34],\n",
       "       [74, 88,  9, 19, 43, 69]], dtype=int32)"
      ]
     },
     "execution_count": 42,
     "metadata": {},
     "output_type": "execute_result"
    }
   ],
   "execution_count": 42
  },
  {
   "metadata": {
    "ExecuteTime": {
     "end_time": "2025-10-07T13:42:14.609440Z",
     "start_time": "2025-10-07T13:42:14.603929Z"
    }
   },
   "cell_type": "code",
   "source": "np.random.shuffle(x)",
   "id": "477fedb13e74febd",
   "outputs": [],
   "execution_count": 51
  },
  {
   "metadata": {
    "ExecuteTime": {
     "end_time": "2025-10-07T13:41:30.246626Z",
     "start_time": "2025-10-07T13:41:30.241683Z"
    }
   },
   "cell_type": "code",
   "source": "x",
   "id": "6a4a91a593664b4d",
   "outputs": [
    {
     "data": {
      "text/plain": [
       "array([[15, 80, 83, 91],\n",
       "       [ 2, 34, 74, 88],\n",
       "       [ 9, 19, 43, 69]], dtype=int32)"
      ]
     },
     "execution_count": 44,
     "metadata": {},
     "output_type": "execute_result"
    }
   ],
   "execution_count": 44
  },
  {
   "metadata": {
    "ExecuteTime": {
     "end_time": "2025-10-07T13:42:39.005296Z",
     "start_time": "2025-10-07T13:42:39.000248Z"
    }
   },
   "cell_type": "code",
   "source": "np.random.shuffle(x)",
   "id": "8f5e6be1e8b5468d",
   "outputs": [],
   "execution_count": 53
  },
  {
   "metadata": {
    "ExecuteTime": {
     "end_time": "2025-10-07T13:42:40.958047Z",
     "start_time": "2025-10-07T13:42:40.951446Z"
    }
   },
   "cell_type": "code",
   "source": "x",
   "id": "8b75c6eea90adeea",
   "outputs": [
    {
     "data": {
      "text/plain": [
       "array([[85, 33, 61, 35],\n",
       "       [55, 36,  8, 58],\n",
       "       [92, 55, 92, 22]], dtype=int32)"
      ]
     },
     "execution_count": 54,
     "metadata": {},
     "output_type": "execute_result"
    }
   ],
   "execution_count": 54
  },
  {
   "metadata": {
    "ExecuteTime": {
     "end_time": "2025-10-07T13:45:49.508430Z",
     "start_time": "2025-10-07T13:45:49.502350Z"
    }
   },
   "cell_type": "code",
   "source": "x",
   "id": "f87e7292689f4a2d",
   "outputs": [
    {
     "data": {
      "text/plain": [
       "array([[85, 33, 61, 35],\n",
       "       [55, 36,  8, 58],\n",
       "       [92, 55, 92, 22]], dtype=int32)"
      ]
     },
     "execution_count": 55,
     "metadata": {},
     "output_type": "execute_result"
    }
   ],
   "execution_count": 55
  },
  {
   "metadata": {
    "ExecuteTime": {
     "end_time": "2025-10-07T13:45:58.244008Z",
     "start_time": "2025-10-07T13:45:58.237601Z"
    }
   },
   "cell_type": "code",
   "source": "np.count_nonzero(x)",
   "id": "de8f4ead5a5dd1d7",
   "outputs": [
    {
     "data": {
      "text/plain": [
       "12"
      ]
     },
     "execution_count": 56,
     "metadata": {},
     "output_type": "execute_result"
    }
   ],
   "execution_count": 56
  },
  {
   "metadata": {
    "ExecuteTime": {
     "end_time": "2025-10-07T13:46:34.329294Z",
     "start_time": "2025-10-07T13:46:34.322627Z"
    }
   },
   "cell_type": "code",
   "source": "np.any(x<0)",
   "id": "601dff1ca0ea6ab",
   "outputs": [
    {
     "data": {
      "text/plain": [
       "np.False_"
      ]
     },
     "execution_count": 57,
     "metadata": {},
     "output_type": "execute_result"
    }
   ],
   "execution_count": 57
  },
  {
   "metadata": {
    "ExecuteTime": {
     "end_time": "2025-10-07T13:51:07.963168Z",
     "start_time": "2025-10-07T13:51:07.351828Z"
    }
   },
   "cell_type": "code",
   "source": "import matplotlib.pyplot as plt",
   "id": "388c20135c224b9f",
   "outputs": [],
   "execution_count": 66
  },
  {
   "metadata": {
    "ExecuteTime": {
     "end_time": "2025-10-07T13:49:44.688138Z",
     "start_time": "2025-10-07T13:49:44.683365Z"
    }
   },
   "cell_type": "code",
   "source": "x = np.linspace(0,10,100)",
   "id": "ebbbd7bb41c4f1fe",
   "outputs": [],
   "execution_count": 60
  },
  {
   "metadata": {
    "ExecuteTime": {
     "end_time": "2025-10-07T13:49:46.361709Z",
     "start_time": "2025-10-07T13:49:46.352653Z"
    }
   },
   "cell_type": "code",
   "source": "x",
   "id": "3d1273f62f5826e6",
   "outputs": [
    {
     "data": {
      "text/plain": [
       "array([ 0.        ,  0.1010101 ,  0.2020202 ,  0.3030303 ,  0.4040404 ,\n",
       "        0.50505051,  0.60606061,  0.70707071,  0.80808081,  0.90909091,\n",
       "        1.01010101,  1.11111111,  1.21212121,  1.31313131,  1.41414141,\n",
       "        1.51515152,  1.61616162,  1.71717172,  1.81818182,  1.91919192,\n",
       "        2.02020202,  2.12121212,  2.22222222,  2.32323232,  2.42424242,\n",
       "        2.52525253,  2.62626263,  2.72727273,  2.82828283,  2.92929293,\n",
       "        3.03030303,  3.13131313,  3.23232323,  3.33333333,  3.43434343,\n",
       "        3.53535354,  3.63636364,  3.73737374,  3.83838384,  3.93939394,\n",
       "        4.04040404,  4.14141414,  4.24242424,  4.34343434,  4.44444444,\n",
       "        4.54545455,  4.64646465,  4.74747475,  4.84848485,  4.94949495,\n",
       "        5.05050505,  5.15151515,  5.25252525,  5.35353535,  5.45454545,\n",
       "        5.55555556,  5.65656566,  5.75757576,  5.85858586,  5.95959596,\n",
       "        6.06060606,  6.16161616,  6.26262626,  6.36363636,  6.46464646,\n",
       "        6.56565657,  6.66666667,  6.76767677,  6.86868687,  6.96969697,\n",
       "        7.07070707,  7.17171717,  7.27272727,  7.37373737,  7.47474747,\n",
       "        7.57575758,  7.67676768,  7.77777778,  7.87878788,  7.97979798,\n",
       "        8.08080808,  8.18181818,  8.28282828,  8.38383838,  8.48484848,\n",
       "        8.58585859,  8.68686869,  8.78787879,  8.88888889,  8.98989899,\n",
       "        9.09090909,  9.19191919,  9.29292929,  9.39393939,  9.49494949,\n",
       "        9.5959596 ,  9.6969697 ,  9.7979798 ,  9.8989899 , 10.        ])"
      ]
     },
     "execution_count": 61,
     "metadata": {},
     "output_type": "execute_result"
    }
   ],
   "execution_count": 61
  },
  {
   "metadata": {},
   "cell_type": "code",
   "outputs": [],
   "execution_count": null,
   "source": "y = x*x",
   "id": "d999a41ad1ff222e"
  },
  {
   "metadata": {},
   "cell_type": "markdown",
   "source": "# Matplotlib 常用操作",
   "id": "e42a1edbc583d5a3"
  },
  {
   "metadata": {},
   "cell_type": "markdown",
   "source": "plt.plot(x,y)",
   "id": "a57972bcb9a3427"
  },
  {
   "metadata": {
    "ExecuteTime": {
     "end_time": "2025-10-07T13:56:19.004368Z",
     "start_time": "2025-10-07T13:56:18.998873Z"
    }
   },
   "cell_type": "code",
   "source": "x = np.linspace(0,10,100)",
   "id": "4109fa1c84a1aa9b",
   "outputs": [],
   "execution_count": 73
  },
  {
   "metadata": {
    "ExecuteTime": {
     "end_time": "2025-10-07T13:57:02.777396Z",
     "start_time": "2025-10-07T13:57:02.773025Z"
    }
   },
   "cell_type": "code",
   "source": [
    "x1 = x+10\n",
    "y = np.sin(x)\n",
    "y1 = np.cos(x1)"
   ],
   "id": "eb589c52f5138bc3",
   "outputs": [],
   "execution_count": 80
  },
  {
   "metadata": {
    "ExecuteTime": {
     "end_time": "2025-10-07T13:57:04.058514Z",
     "start_time": "2025-10-07T13:57:03.899367Z"
    }
   },
   "cell_type": "code",
   "source": [
    "plt.plot(x,y)\n",
    "plt.plot(x,y1)"
   ],
   "id": "b95cdaeeb5456d35",
   "outputs": [
    {
     "data": {
      "text/plain": [
       "[<matplotlib.lines.Line2D at 0x1d4b67b0ec0>]"
      ]
     },
     "execution_count": 81,
     "metadata": {},
     "output_type": "execute_result"
    },
    {
     "data": {
      "text/plain": [
       "<Figure size 640x480 with 1 Axes>"
      ],
      "image/png": "[encoded data removed]"
     },
     "metadata": {},
     "output_type": "display_data"
    }
   ],
   "execution_count": 81
  },
  {
   "metadata": {
    "ExecuteTime": {
     "end_time": "2025-10-07T14:03:17.529787Z",
     "start_time": "2025-10-07T14:03:17.396913Z"
    }
   },
   "cell_type": "code",
   "source": [
    "plt.title(\"my first plot\")\n",
    "plt.axis([0,10,-1.5,1.5])\n",
    "plt.xlabel(\"x\")\n",
    "plt.ylabel(\"y\")\n",
    "plt.plot(x,y,color =\"green\", linestyle=\":\",label=\"sin(x)\")\n",
    "plt.plot(x,y1,label=\"cos(x)\")\n",
    "plt.legend() #图例\n",
    "plt.show()"
   ],
   "id": "19292fbf05f743e5",
   "outputs": [
    {
     "data": {
      "text/plain": [
       "<Figure size 640x480 with 1 Axes>"
      ],
      "image/png": "[encoded data removed]"
     },
     "metadata": {},
     "output_type": "display_data"
    }
   ],
   "execution_count": 96
  },
  {
   "metadata": {},
   "cell_type": "code",
   "outputs": [],
   "execution_count": null,
   "source": "",
   "id": "717362bb04591365"
  },
  {
   "metadata": {},
   "cell_type": "code",
   "outputs": [],
   "execution_count": null,
   "source": "",
   "id": "39059d2f5c298daa"
  }
 ],
 "metadata": {
  "kernelspec": {
   "display_name": "Python 3",
   "language": "python",
   "name": "python3"
  },
  "language_info": {
   "codemirror_mode": {
    "name": "ipython",
    "version": 2
   },
   "file_extension": ".py",
   "mimetype": "text/x-python",
   "name": "python",
   "nbconvert_exporter": "python",
   "pygments_lexer": "ipython2",
   "version": "2.7.6"
  }
 },
 "nbformat": 4,
 "nbformat_minor": 5
}
