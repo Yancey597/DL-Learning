{
 "cells": [
  {
   "metadata": {
    "ExecuteTime": {
     "end_time": "2025-09-23T13:14:04.372245Z",
     "start_time": "2025-09-23T13:14:02.857702Z"
    }
   },
   "cell_type": "code",
   "source": [
    "import numpy as np\n",
    "import pandas as pd\n",
    "import matplotlib.pyplot as plt"
   ],
   "id": "fe5c7a39bcf07342",
   "outputs": [],
   "execution_count": 1
  },
  {
   "metadata": {
    "ExecuteTime": {
     "end_time": "2025-09-23T13:15:50.045996Z",
     "start_time": "2025-09-23T13:15:50.040998Z"
    }
   },
   "cell_type": "code",
   "source": "s = pd.Series(np.random.randint(1,10,10))",
   "id": "47414372a1242d52",
   "outputs": [],
   "execution_count": 7
  },
  {
   "metadata": {
    "ExecuteTime": {
     "end_time": "2025-09-23T13:15:51.147104Z",
     "start_time": "2025-09-23T13:15:51.140101Z"
    }
   },
   "cell_type": "code",
   "source": "s",
   "id": "208d6d47ab195721",
   "outputs": [
    {
     "data": {
      "text/plain": [
       "0    5\n",
       "1    2\n",
       "2    6\n",
       "3    1\n",
       "4    1\n",
       "5    8\n",
       "6    2\n",
       "7    4\n",
       "8    1\n",
       "9    8\n",
       "dtype: int32"
      ]
     },
     "execution_count": 8,
     "metadata": {},
     "output_type": "execute_result"
    }
   ],
   "execution_count": 8
  },
  {
   "metadata": {
    "ExecuteTime": {
     "end_time": "2025-09-23T13:15:58.714546Z",
     "start_time": "2025-09-23T13:15:58.706071Z"
    }
   },
   "cell_type": "code",
   "source": "s.argmax",
   "id": "15933e38cc1cb638",
   "outputs": [
    {
     "data": {
      "text/plain": [
       "<bound method IndexOpsMixin.argmax of 0    5\n",
       "1    2\n",
       "2    6\n",
       "3    1\n",
       "4    1\n",
       "5    8\n",
       "6    2\n",
       "7    4\n",
       "8    1\n",
       "9    8\n",
       "dtype: int32>"
      ]
     },
     "execution_count": 9,
     "metadata": {},
     "output_type": "execute_result"
    }
   ],
   "execution_count": 9
  },
  {
   "metadata": {
    "ExecuteTime": {
     "end_time": "2025-09-23T13:20:39.944698Z",
     "start_time": "2025-09-23T13:20:39.933166Z"
    }
   },
   "cell_type": "code",
   "source": "dates = pd.date_range('20130101', periods=6)",
   "id": "5053057a93ccedab",
   "outputs": [],
   "execution_count": 10
  },
  {
   "metadata": {
    "ExecuteTime": {
     "end_time": "2025-09-23T13:20:42.261262Z",
     "start_time": "2025-09-23T13:20:42.254918Z"
    }
   },
   "cell_type": "code",
   "source": "dates",
   "id": "c2be552f2fffafe6",
   "outputs": [
    {
     "data": {
      "text/plain": [
       "DatetimeIndex(['2013-01-01', '2013-01-02', '2013-01-03', '2013-01-04',\n",
       "               '2013-01-05', '2013-01-06'],\n",
       "              dtype='datetime64[ns]', freq='D')"
      ]
     },
     "execution_count": 11,
     "metadata": {},
     "output_type": "execute_result"
    }
   ],
   "execution_count": 11
  },
  {
   "metadata": {
    "ExecuteTime": {
     "end_time": "2025-09-23T13:21:11.161791Z",
     "start_time": "2025-09-23T13:21:11.157240Z"
    }
   },
   "cell_type": "code",
   "source": "df = pd.DataFrame(np.random.randn(6,4), index=dates, columns=list('ABCD'))",
   "id": "e517f7b34deec6d8",
   "outputs": [],
   "execution_count": 12
  },
  {
   "metadata": {
    "ExecuteTime": {
     "end_time": "2025-09-23T13:21:14.252433Z",
     "start_time": "2025-09-23T13:21:14.242904Z"
    }
   },
   "cell_type": "code",
   "source": "df",
   "id": "ca525d9e70730a81",
   "outputs": [
    {
     "data": {
      "text/plain": [
       "                   A         B         C         D\n",
       "2013-01-01 -0.670037  0.412447 -0.540445  0.958276\n",
       "2013-01-02 -0.195359  0.001758  1.833323 -0.941238\n",
       "2013-01-03  0.392205 -0.148470  0.745764  0.519683\n",
       "2013-01-04 -0.814004  0.707982 -0.749365 -0.351240\n",
       "2013-01-05 -0.532887 -0.591981  1.337439 -0.940435\n",
       "2013-01-06 -2.043308 -0.071187  0.788198 -0.889776"
      ],
      "text/html": [
       "<div>\n",
       "<style scoped>\n",
       "    .dataframe tbody tr th:only-of-type {\n",
       "        vertical-align: middle;\n",
       "    }\n",
       "\n",
       "    .dataframe tbody tr th {\n",
       "        vertical-align: top;\n",
       "    }\n",
       "\n",
       "    .dataframe thead th {\n",
       "        text-align: right;\n",
       "    }\n",
       "</style>\n",
       "<table border=\"1\" class=\"dataframe\">\n",
       "  <thead>\n",
       "    <tr style=\"text-align: right;\">\n",
       "      <th></th>\n",
       "      <th>A</th>\n",
       "      <th>B</th>\n",
       "      <th>C</th>\n",
       "      <th>D</th>\n",
       "    </tr>\n",
       "  </thead>\n",
       "  <tbody>\n",
       "    <tr>\n",
       "      <th>2013-01-01</th>\n",
       "      <td>-0.670037</td>\n",
       "      <td>0.412447</td>\n",
       "      <td>-0.540445</td>\n",
       "      <td>0.958276</td>\n",
       "    </tr>\n",
       "    <tr>\n",
       "      <th>2013-01-02</th>\n",
       "      <td>-0.195359</td>\n",
       "      <td>0.001758</td>\n",
       "      <td>1.833323</td>\n",
       "      <td>-0.941238</td>\n",
       "    </tr>\n",
       "    <tr>\n",
       "      <th>2013-01-03</th>\n",
       "      <td>0.392205</td>\n",
       "      <td>-0.148470</td>\n",
       "      <td>0.745764</td>\n",
       "      <td>0.519683</td>\n",
       "    </tr>\n",
       "    <tr>\n",
       "      <th>2013-01-04</th>\n",
       "      <td>-0.814004</td>\n",
       "      <td>0.707982</td>\n",
       "      <td>-0.749365</td>\n",
       "      <td>-0.351240</td>\n",
       "    </tr>\n",
       "    <tr>\n",
       "      <th>2013-01-05</th>\n",
       "      <td>-0.532887</td>\n",
       "      <td>-0.591981</td>\n",
       "      <td>1.337439</td>\n",
       "      <td>-0.940435</td>\n",
       "    </tr>\n",
       "    <tr>\n",
       "      <th>2013-01-06</th>\n",
       "      <td>-2.043308</td>\n",
       "      <td>-0.071187</td>\n",
       "      <td>0.788198</td>\n",
       "      <td>-0.889776</td>\n",
       "    </tr>\n",
       "  </tbody>\n",
       "</table>\n",
       "</div>"
      ]
     },
     "execution_count": 13,
     "metadata": {},
     "output_type": "execute_result"
    }
   ],
   "execution_count": 13
  },
  {
   "metadata": {
    "ExecuteTime": {
     "end_time": "2025-09-23T13:21:31.068652Z",
     "start_time": "2025-09-23T13:21:31.058661Z"
    }
   },
   "cell_type": "code",
   "source": "df.head(3)",
   "id": "bfe19ceb00e8756",
   "outputs": [
    {
     "data": {
      "text/plain": [
       "                   A         B         C         D\n",
       "2013-01-01 -0.670037  0.412447 -0.540445  0.958276\n",
       "2013-01-02 -0.195359  0.001758  1.833323 -0.941238\n",
       "2013-01-03  0.392205 -0.148470  0.745764  0.519683"
      ],
      "text/html": [
       "<div>\n",
       "<style scoped>\n",
       "    .dataframe tbody tr th:only-of-type {\n",
       "        vertical-align: middle;\n",
       "    }\n",
       "\n",
       "    .dataframe tbody tr th {\n",
       "        vertical-align: top;\n",
       "    }\n",
       "\n",
       "    .dataframe thead th {\n",
       "        text-align: right;\n",
       "    }\n",
       "</style>\n",
       "<table border=\"1\" class=\"dataframe\">\n",
       "  <thead>\n",
       "    <tr style=\"text-align: right;\">\n",
       "      <th></th>\n",
       "      <th>A</th>\n",
       "      <th>B</th>\n",
       "      <th>C</th>\n",
       "      <th>D</th>\n",
       "    </tr>\n",
       "  </thead>\n",
       "  <tbody>\n",
       "    <tr>\n",
       "      <th>2013-01-01</th>\n",
       "      <td>-0.670037</td>\n",
       "      <td>0.412447</td>\n",
       "      <td>-0.540445</td>\n",
       "      <td>0.958276</td>\n",
       "    </tr>\n",
       "    <tr>\n",
       "      <th>2013-01-02</th>\n",
       "      <td>-0.195359</td>\n",
       "      <td>0.001758</td>\n",
       "      <td>1.833323</td>\n",
       "      <td>-0.941238</td>\n",
       "    </tr>\n",
       "    <tr>\n",
       "      <th>2013-01-03</th>\n",
       "      <td>0.392205</td>\n",
       "      <td>-0.148470</td>\n",
       "      <td>0.745764</td>\n",
       "      <td>0.519683</td>\n",
       "    </tr>\n",
       "  </tbody>\n",
       "</table>\n",
       "</div>"
      ]
     },
     "execution_count": 14,
     "metadata": {},
     "output_type": "execute_result"
    }
   ],
   "execution_count": 14
  },
  {
   "metadata": {
    "ExecuteTime": {
     "end_time": "2025-09-23T13:21:35.159836Z",
     "start_time": "2025-09-23T13:21:35.150311Z"
    }
   },
   "cell_type": "code",
   "source": "df.tail(2)",
   "id": "f2f818c194114ccb",
   "outputs": [
    {
     "data": {
      "text/plain": [
       "                   A         B         C         D\n",
       "2013-01-05 -0.532887 -0.591981  1.337439 -0.940435\n",
       "2013-01-06 -2.043308 -0.071187  0.788198 -0.889776"
      ],
      "text/html": [
       "<div>\n",
       "<style scoped>\n",
       "    .dataframe tbody tr th:only-of-type {\n",
       "        vertical-align: middle;\n",
       "    }\n",
       "\n",
       "    .dataframe tbody tr th {\n",
       "        vertical-align: top;\n",
       "    }\n",
       "\n",
       "    .dataframe thead th {\n",
       "        text-align: right;\n",
       "    }\n",
       "</style>\n",
       "<table border=\"1\" class=\"dataframe\">\n",
       "  <thead>\n",
       "    <tr style=\"text-align: right;\">\n",
       "      <th></th>\n",
       "      <th>A</th>\n",
       "      <th>B</th>\n",
       "      <th>C</th>\n",
       "      <th>D</th>\n",
       "    </tr>\n",
       "  </thead>\n",
       "  <tbody>\n",
       "    <tr>\n",
       "      <th>2013-01-05</th>\n",
       "      <td>-0.532887</td>\n",
       "      <td>-0.591981</td>\n",
       "      <td>1.337439</td>\n",
       "      <td>-0.940435</td>\n",
       "    </tr>\n",
       "    <tr>\n",
       "      <th>2013-01-06</th>\n",
       "      <td>-2.043308</td>\n",
       "      <td>-0.071187</td>\n",
       "      <td>0.788198</td>\n",
       "      <td>-0.889776</td>\n",
       "    </tr>\n",
       "  </tbody>\n",
       "</table>\n",
       "</div>"
      ]
     },
     "execution_count": 15,
     "metadata": {},
     "output_type": "execute_result"
    }
   ],
   "execution_count": 15
  },
  {
   "metadata": {
    "ExecuteTime": {
     "end_time": "2025-09-23T13:21:40.643677Z",
     "start_time": "2025-09-23T13:21:40.637268Z"
    }
   },
   "cell_type": "code",
   "source": "df.index",
   "id": "39175cb9358e49c2",
   "outputs": [
    {
     "data": {
      "text/plain": [
       "DatetimeIndex(['2013-01-01', '2013-01-02', '2013-01-03', '2013-01-04',\n",
       "               '2013-01-05', '2013-01-06'],\n",
       "              dtype='datetime64[ns]', freq='D')"
      ]
     },
     "execution_count": 16,
     "metadata": {},
     "output_type": "execute_result"
    }
   ],
   "execution_count": 16
  },
  {
   "metadata": {
    "ExecuteTime": {
     "end_time": "2025-09-23T13:21:46.225149Z",
     "start_time": "2025-09-23T13:21:46.217761Z"
    }
   },
   "cell_type": "code",
   "source": "df.columns",
   "id": "6beda5c361e165bd",
   "outputs": [
    {
     "data": {
      "text/plain": [
       "Index(['A', 'B', 'C', 'D'], dtype='object')"
      ]
     },
     "execution_count": 17,
     "metadata": {},
     "output_type": "execute_result"
    }
   ],
   "execution_count": 17
  },
  {
   "metadata": {
    "ExecuteTime": {
     "end_time": "2025-09-23T13:21:52.123390Z",
     "start_time": "2025-09-23T13:21:52.116844Z"
    }
   },
   "cell_type": "code",
   "source": "df.values",
   "id": "307740d90cba5f8",
   "outputs": [
    {
     "data": {
      "text/plain": [
       "array([[-6.70036913e-01,  4.12446847e-01, -5.40444783e-01,\n",
       "         9.58275710e-01],\n",
       "       [-1.95358779e-01,  1.75760667e-03,  1.83332293e+00,\n",
       "        -9.41237679e-01],\n",
       "       [ 3.92204820e-01, -1.48469824e-01,  7.45764169e-01,\n",
       "         5.19683304e-01],\n",
       "       [-8.14004270e-01,  7.07981920e-01, -7.49365199e-01,\n",
       "        -3.51240255e-01],\n",
       "       [-5.32887346e-01, -5.91981206e-01,  1.33743868e+00,\n",
       "        -9.40434594e-01],\n",
       "       [-2.04330771e+00, -7.11870094e-02,  7.88198075e-01,\n",
       "        -8.89776091e-01]])"
      ]
     },
     "execution_count": 18,
     "metadata": {},
     "output_type": "execute_result"
    }
   ],
   "execution_count": 18
  },
  {
   "metadata": {
    "ExecuteTime": {
     "end_time": "2025-09-23T13:22:02.253918Z",
     "start_time": "2025-09-23T13:22:02.232323Z"
    }
   },
   "cell_type": "code",
   "source": "df.describe()",
   "id": "1ff5db09d0a8ad03",
   "outputs": [
    {
     "data": {
      "text/plain": [
       "              A         B         C         D\n",
       "count  6.000000  6.000000  6.000000  6.000000\n",
       "mean  -0.643898  0.051758  0.569152 -0.274122\n",
       "std    0.809319  0.454496  1.023451  0.827396\n",
       "min   -2.043308 -0.591981 -0.749365 -0.941238\n",
       "25%   -0.778012 -0.129149 -0.218893 -0.927770\n",
       "50%   -0.601462 -0.034715  0.766981 -0.620508\n",
       "75%   -0.279741  0.309775  1.200129  0.301952\n",
       "max    0.392205  0.707982  1.833323  0.958276"
      ],
      "text/html": [
       "<div>\n",
       "<style scoped>\n",
       "    .dataframe tbody tr th:only-of-type {\n",
       "        vertical-align: middle;\n",
       "    }\n",
       "\n",
       "    .dataframe tbody tr th {\n",
       "        vertical-align: top;\n",
       "    }\n",
       "\n",
       "    .dataframe thead th {\n",
       "        text-align: right;\n",
       "    }\n",
       "</style>\n",
       "<table border=\"1\" class=\"dataframe\">\n",
       "  <thead>\n",
       "    <tr style=\"text-align: right;\">\n",
       "      <th></th>\n",
       "      <th>A</th>\n",
       "      <th>B</th>\n",
       "      <th>C</th>\n",
       "      <th>D</th>\n",
       "    </tr>\n",
       "  </thead>\n",
       "  <tbody>\n",
       "    <tr>\n",
       "      <th>count</th>\n",
       "      <td>6.000000</td>\n",
       "      <td>6.000000</td>\n",
       "      <td>6.000000</td>\n",
       "      <td>6.000000</td>\n",
       "    </tr>\n",
       "    <tr>\n",
       "      <th>mean</th>\n",
       "      <td>-0.643898</td>\n",
       "      <td>0.051758</td>\n",
       "      <td>0.569152</td>\n",
       "      <td>-0.274122</td>\n",
       "    </tr>\n",
       "    <tr>\n",
       "      <th>std</th>\n",
       "      <td>0.809319</td>\n",
       "      <td>0.454496</td>\n",
       "      <td>1.023451</td>\n",
       "      <td>0.827396</td>\n",
       "    </tr>\n",
       "    <tr>\n",
       "      <th>min</th>\n",
       "      <td>-2.043308</td>\n",
       "      <td>-0.591981</td>\n",
       "      <td>-0.749365</td>\n",
       "      <td>-0.941238</td>\n",
       "    </tr>\n",
       "    <tr>\n",
       "      <th>25%</th>\n",
       "      <td>-0.778012</td>\n",
       "      <td>-0.129149</td>\n",
       "      <td>-0.218893</td>\n",
       "      <td>-0.927770</td>\n",
       "    </tr>\n",
       "    <tr>\n",
       "      <th>50%</th>\n",
       "      <td>-0.601462</td>\n",
       "      <td>-0.034715</td>\n",
       "      <td>0.766981</td>\n",
       "      <td>-0.620508</td>\n",
       "    </tr>\n",
       "    <tr>\n",
       "      <th>75%</th>\n",
       "      <td>-0.279741</td>\n",
       "      <td>0.309775</td>\n",
       "      <td>1.200129</td>\n",
       "      <td>0.301952</td>\n",
       "    </tr>\n",
       "    <tr>\n",
       "      <th>max</th>\n",
       "      <td>0.392205</td>\n",
       "      <td>0.707982</td>\n",
       "      <td>1.833323</td>\n",
       "      <td>0.958276</td>\n",
       "    </tr>\n",
       "  </tbody>\n",
       "</table>\n",
       "</div>"
      ]
     },
     "execution_count": 19,
     "metadata": {},
     "output_type": "execute_result"
    }
   ],
   "execution_count": 19
  },
  {
   "metadata": {
    "ExecuteTime": {
     "end_time": "2025-09-23T13:22:32.511318Z",
     "start_time": "2025-09-23T13:22:32.497818Z"
    }
   },
   "cell_type": "code",
   "outputs": [
    {
     "data": {
      "text/plain": [
       "                   D         C         B         A\n",
       "2013-01-01  0.958276 -0.540445  0.412447 -0.670037\n",
       "2013-01-02 -0.941238  1.833323  0.001758 -0.195359\n",
       "2013-01-03  0.519683  0.745764 -0.148470  0.392205\n",
       "2013-01-04 -0.351240 -0.749365  0.707982 -0.814004\n",
       "2013-01-05 -0.940435  1.337439 -0.591981 -0.532887\n",
       "2013-01-06 -0.889776  0.788198 -0.071187 -2.043308"
      ],
      "text/html": [
       "<div>\n",
       "<style scoped>\n",
       "    .dataframe tbody tr th:only-of-type {\n",
       "        vertical-align: middle;\n",
       "    }\n",
       "\n",
       "    .dataframe tbody tr th {\n",
       "        vertical-align: top;\n",
       "    }\n",
       "\n",
       "    .dataframe thead th {\n",
       "        text-align: right;\n",
       "    }\n",
       "</style>\n",
       "<table border=\"1\" class=\"dataframe\">\n",
       "  <thead>\n",
       "    <tr style=\"text-align: right;\">\n",
       "      <th></th>\n",
       "      <th>D</th>\n",
       "      <th>C</th>\n",
       "      <th>B</th>\n",
       "      <th>A</th>\n",
       "    </tr>\n",
       "  </thead>\n",
       "  <tbody>\n",
       "    <tr>\n",
       "      <th>2013-01-01</th>\n",
       "      <td>0.958276</td>\n",
       "      <td>-0.540445</td>\n",
       "      <td>0.412447</td>\n",
       "      <td>-0.670037</td>\n",
       "    </tr>\n",
       "    <tr>\n",
       "      <th>2013-01-02</th>\n",
       "      <td>-0.941238</td>\n",
       "      <td>1.833323</td>\n",
       "      <td>0.001758</td>\n",
       "      <td>-0.195359</td>\n",
       "    </tr>\n",
       "    <tr>\n",
       "      <th>2013-01-03</th>\n",
       "      <td>0.519683</td>\n",
       "      <td>0.745764</td>\n",
       "      <td>-0.148470</td>\n",
       "      <td>0.392205</td>\n",
       "    </tr>\n",
       "    <tr>\n",
       "      <th>2013-01-04</th>\n",
       "      <td>-0.351240</td>\n",
       "      <td>-0.749365</td>\n",
       "      <td>0.707982</td>\n",
       "      <td>-0.814004</td>\n",
       "    </tr>\n",
       "    <tr>\n",
       "      <th>2013-01-05</th>\n",
       "      <td>-0.940435</td>\n",
       "      <td>1.337439</td>\n",
       "      <td>-0.591981</td>\n",
       "      <td>-0.532887</td>\n",
       "    </tr>\n",
       "    <tr>\n",
       "      <th>2013-01-06</th>\n",
       "      <td>-0.889776</td>\n",
       "      <td>0.788198</td>\n",
       "      <td>-0.071187</td>\n",
       "      <td>-2.043308</td>\n",
       "    </tr>\n",
       "  </tbody>\n",
       "</table>\n",
       "</div>"
      ]
     },
     "execution_count": 20,
     "metadata": {},
     "output_type": "execute_result"
    }
   ],
   "execution_count": 20,
   "source": "df.sort_index(axis=1, ascending=False)",
   "id": "97f1b1963839bb6"
  },
  {
   "metadata": {
    "ExecuteTime": {
     "end_time": "2025-09-23T13:24:19.835267Z",
     "start_time": "2025-09-23T13:24:19.823845Z"
    }
   },
   "cell_type": "code",
   "source": "df.sort_index(axis=0, ascending=False)",
   "id": "4899179b66dab0d5",
   "outputs": [
    {
     "data": {
      "text/plain": [
       "                   A         B         C         D\n",
       "2013-01-06 -2.043308 -0.071187  0.788198 -0.889776\n",
       "2013-01-05 -0.532887 -0.591981  1.337439 -0.940435\n",
       "2013-01-04 -0.814004  0.707982 -0.749365 -0.351240\n",
       "2013-01-03  0.392205 -0.148470  0.745764  0.519683\n",
       "2013-01-02 -0.195359  0.001758  1.833323 -0.941238\n",
       "2013-01-01 -0.670037  0.412447 -0.540445  0.958276"
      ],
      "text/html": [
       "<div>\n",
       "<style scoped>\n",
       "    .dataframe tbody tr th:only-of-type {\n",
       "        vertical-align: middle;\n",
       "    }\n",
       "\n",
       "    .dataframe tbody tr th {\n",
       "        vertical-align: top;\n",
       "    }\n",
       "\n",
       "    .dataframe thead th {\n",
       "        text-align: right;\n",
       "    }\n",
       "</style>\n",
       "<table border=\"1\" class=\"dataframe\">\n",
       "  <thead>\n",
       "    <tr style=\"text-align: right;\">\n",
       "      <th></th>\n",
       "      <th>A</th>\n",
       "      <th>B</th>\n",
       "      <th>C</th>\n",
       "      <th>D</th>\n",
       "    </tr>\n",
       "  </thead>\n",
       "  <tbody>\n",
       "    <tr>\n",
       "      <th>2013-01-06</th>\n",
       "      <td>-2.043308</td>\n",
       "      <td>-0.071187</td>\n",
       "      <td>0.788198</td>\n",
       "      <td>-0.889776</td>\n",
       "    </tr>\n",
       "    <tr>\n",
       "      <th>2013-01-05</th>\n",
       "      <td>-0.532887</td>\n",
       "      <td>-0.591981</td>\n",
       "      <td>1.337439</td>\n",
       "      <td>-0.940435</td>\n",
       "    </tr>\n",
       "    <tr>\n",
       "      <th>2013-01-04</th>\n",
       "      <td>-0.814004</td>\n",
       "      <td>0.707982</td>\n",
       "      <td>-0.749365</td>\n",
       "      <td>-0.351240</td>\n",
       "    </tr>\n",
       "    <tr>\n",
       "      <th>2013-01-03</th>\n",
       "      <td>0.392205</td>\n",
       "      <td>-0.148470</td>\n",
       "      <td>0.745764</td>\n",
       "      <td>0.519683</td>\n",
       "    </tr>\n",
       "    <tr>\n",
       "      <th>2013-01-02</th>\n",
       "      <td>-0.195359</td>\n",
       "      <td>0.001758</td>\n",
       "      <td>1.833323</td>\n",
       "      <td>-0.941238</td>\n",
       "    </tr>\n",
       "    <tr>\n",
       "      <th>2013-01-01</th>\n",
       "      <td>-0.670037</td>\n",
       "      <td>0.412447</td>\n",
       "      <td>-0.540445</td>\n",
       "      <td>0.958276</td>\n",
       "    </tr>\n",
       "  </tbody>\n",
       "</table>\n",
       "</div>"
      ]
     },
     "execution_count": 25,
     "metadata": {},
     "output_type": "execute_result"
    }
   ],
   "execution_count": 25
  },
  {
   "metadata": {
    "ExecuteTime": {
     "end_time": "2025-09-23T13:23:52.753915Z",
     "start_time": "2025-09-23T13:23:52.743226Z"
    }
   },
   "cell_type": "code",
   "source": "df.sort_values(by='B', ascending=False)\n",
   "id": "66725bb5259328c6",
   "outputs": [
    {
     "data": {
      "text/plain": [
       "                   A         B         C         D\n",
       "2013-01-04 -0.814004  0.707982 -0.749365 -0.351240\n",
       "2013-01-01 -0.670037  0.412447 -0.540445  0.958276\n",
       "2013-01-02 -0.195359  0.001758  1.833323 -0.941238\n",
       "2013-01-06 -2.043308 -0.071187  0.788198 -0.889776\n",
       "2013-01-03  0.392205 -0.148470  0.745764  0.519683\n",
       "2013-01-05 -0.532887 -0.591981  1.337439 -0.940435"
      ],
      "text/html": [
       "<div>\n",
       "<style scoped>\n",
       "    .dataframe tbody tr th:only-of-type {\n",
       "        vertical-align: middle;\n",
       "    }\n",
       "\n",
       "    .dataframe tbody tr th {\n",
       "        vertical-align: top;\n",
       "    }\n",
       "\n",
       "    .dataframe thead th {\n",
       "        text-align: right;\n",
       "    }\n",
       "</style>\n",
       "<table border=\"1\" class=\"dataframe\">\n",
       "  <thead>\n",
       "    <tr style=\"text-align: right;\">\n",
       "      <th></th>\n",
       "      <th>A</th>\n",
       "      <th>B</th>\n",
       "      <th>C</th>\n",
       "      <th>D</th>\n",
       "    </tr>\n",
       "  </thead>\n",
       "  <tbody>\n",
       "    <tr>\n",
       "      <th>2013-01-04</th>\n",
       "      <td>-0.814004</td>\n",
       "      <td>0.707982</td>\n",
       "      <td>-0.749365</td>\n",
       "      <td>-0.351240</td>\n",
       "    </tr>\n",
       "    <tr>\n",
       "      <th>2013-01-01</th>\n",
       "      <td>-0.670037</td>\n",
       "      <td>0.412447</td>\n",
       "      <td>-0.540445</td>\n",
       "      <td>0.958276</td>\n",
       "    </tr>\n",
       "    <tr>\n",
       "      <th>2013-01-02</th>\n",
       "      <td>-0.195359</td>\n",
       "      <td>0.001758</td>\n",
       "      <td>1.833323</td>\n",
       "      <td>-0.941238</td>\n",
       "    </tr>\n",
       "    <tr>\n",
       "      <th>2013-01-06</th>\n",
       "      <td>-2.043308</td>\n",
       "      <td>-0.071187</td>\n",
       "      <td>0.788198</td>\n",
       "      <td>-0.889776</td>\n",
       "    </tr>\n",
       "    <tr>\n",
       "      <th>2013-01-03</th>\n",
       "      <td>0.392205</td>\n",
       "      <td>-0.148470</td>\n",
       "      <td>0.745764</td>\n",
       "      <td>0.519683</td>\n",
       "    </tr>\n",
       "    <tr>\n",
       "      <th>2013-01-05</th>\n",
       "      <td>-0.532887</td>\n",
       "      <td>-0.591981</td>\n",
       "      <td>1.337439</td>\n",
       "      <td>-0.940435</td>\n",
       "    </tr>\n",
       "  </tbody>\n",
       "</table>\n",
       "</div>"
      ]
     },
     "execution_count": 24,
     "metadata": {},
     "output_type": "execute_result"
    }
   ],
   "execution_count": 24
  },
  {
   "metadata": {
    "ExecuteTime": {
     "end_time": "2025-09-23T13:25:51.318529Z",
     "start_time": "2025-09-23T13:25:51.309180Z"
    }
   },
   "cell_type": "code",
   "source": "df",
   "id": "47cc4b0220d0bc2e",
   "outputs": [
    {
     "data": {
      "text/plain": [
       "                   A         B         C         D\n",
       "2013-01-01 -0.670037  0.412447 -0.540445  0.958276\n",
       "2013-01-02 -0.195359  0.001758  1.833323 -0.941238\n",
       "2013-01-03  0.392205 -0.148470  0.745764  0.519683\n",
       "2013-01-04 -0.814004  0.707982 -0.749365 -0.351240\n",
       "2013-01-05 -0.532887 -0.591981  1.337439 -0.940435\n",
       "2013-01-06 -2.043308 -0.071187  0.788198 -0.889776"
      ],
      "text/html": [
       "<div>\n",
       "<style scoped>\n",
       "    .dataframe tbody tr th:only-of-type {\n",
       "        vertical-align: middle;\n",
       "    }\n",
       "\n",
       "    .dataframe tbody tr th {\n",
       "        vertical-align: top;\n",
       "    }\n",
       "\n",
       "    .dataframe thead th {\n",
       "        text-align: right;\n",
       "    }\n",
       "</style>\n",
       "<table border=\"1\" class=\"dataframe\">\n",
       "  <thead>\n",
       "    <tr style=\"text-align: right;\">\n",
       "      <th></th>\n",
       "      <th>A</th>\n",
       "      <th>B</th>\n",
       "      <th>C</th>\n",
       "      <th>D</th>\n",
       "    </tr>\n",
       "  </thead>\n",
       "  <tbody>\n",
       "    <tr>\n",
       "      <th>2013-01-01</th>\n",
       "      <td>-0.670037</td>\n",
       "      <td>0.412447</td>\n",
       "      <td>-0.540445</td>\n",
       "      <td>0.958276</td>\n",
       "    </tr>\n",
       "    <tr>\n",
       "      <th>2013-01-02</th>\n",
       "      <td>-0.195359</td>\n",
       "      <td>0.001758</td>\n",
       "      <td>1.833323</td>\n",
       "      <td>-0.941238</td>\n",
       "    </tr>\n",
       "    <tr>\n",
       "      <th>2013-01-03</th>\n",
       "      <td>0.392205</td>\n",
       "      <td>-0.148470</td>\n",
       "      <td>0.745764</td>\n",
       "      <td>0.519683</td>\n",
       "    </tr>\n",
       "    <tr>\n",
       "      <th>2013-01-04</th>\n",
       "      <td>-0.814004</td>\n",
       "      <td>0.707982</td>\n",
       "      <td>-0.749365</td>\n",
       "      <td>-0.351240</td>\n",
       "    </tr>\n",
       "    <tr>\n",
       "      <th>2013-01-05</th>\n",
       "      <td>-0.532887</td>\n",
       "      <td>-0.591981</td>\n",
       "      <td>1.337439</td>\n",
       "      <td>-0.940435</td>\n",
       "    </tr>\n",
       "    <tr>\n",
       "      <th>2013-01-06</th>\n",
       "      <td>-2.043308</td>\n",
       "      <td>-0.071187</td>\n",
       "      <td>0.788198</td>\n",
       "      <td>-0.889776</td>\n",
       "    </tr>\n",
       "  </tbody>\n",
       "</table>\n",
       "</div>"
      ]
     },
     "execution_count": 26,
     "metadata": {},
     "output_type": "execute_result"
    }
   ],
   "execution_count": 26
  },
  {
   "metadata": {
    "ExecuteTime": {
     "end_time": "2025-09-23T13:25:53.844413Z",
     "start_time": "2025-09-23T13:25:53.838178Z"
    }
   },
   "cell_type": "code",
   "source": "df.A",
   "id": "af06d7b9eced78bd",
   "outputs": [
    {
     "data": {
      "text/plain": [
       "2013-01-01   -0.670037\n",
       "2013-01-02   -0.195359\n",
       "2013-01-03    0.392205\n",
       "2013-01-04   -0.814004\n",
       "2013-01-05   -0.532887\n",
       "2013-01-06   -2.043308\n",
       "Freq: D, Name: A, dtype: float64"
      ]
     },
     "execution_count": 27,
     "metadata": {},
     "output_type": "execute_result"
    }
   ],
   "execution_count": 27
  },
  {
   "metadata": {
    "ExecuteTime": {
     "end_time": "2025-09-23T13:25:58.947753Z",
     "start_time": "2025-09-23T13:25:58.940800Z"
    }
   },
   "cell_type": "code",
   "source": "df['A']",
   "id": "881f599086dade32",
   "outputs": [
    {
     "data": {
      "text/plain": [
       "2013-01-01   -0.670037\n",
       "2013-01-02   -0.195359\n",
       "2013-01-03    0.392205\n",
       "2013-01-04   -0.814004\n",
       "2013-01-05   -0.532887\n",
       "2013-01-06   -2.043308\n",
       "Freq: D, Name: A, dtype: float64"
      ]
     },
     "execution_count": 28,
     "metadata": {},
     "output_type": "execute_result"
    }
   ],
   "execution_count": 28
  },
  {
   "metadata": {
    "ExecuteTime": {
     "end_time": "2025-09-23T13:26:06.611465Z",
     "start_time": "2025-09-23T13:26:06.602419Z"
    }
   },
   "cell_type": "code",
   "source": "df",
   "id": "9bc9faf6a67d9fa7",
   "outputs": [
    {
     "data": {
      "text/plain": [
       "                   A         B         C         D\n",
       "2013-01-01 -0.670037  0.412447 -0.540445  0.958276\n",
       "2013-01-02 -0.195359  0.001758  1.833323 -0.941238\n",
       "2013-01-03  0.392205 -0.148470  0.745764  0.519683\n",
       "2013-01-04 -0.814004  0.707982 -0.749365 -0.351240\n",
       "2013-01-05 -0.532887 -0.591981  1.337439 -0.940435\n",
       "2013-01-06 -2.043308 -0.071187  0.788198 -0.889776"
      ],
      "text/html": [
       "<div>\n",
       "<style scoped>\n",
       "    .dataframe tbody tr th:only-of-type {\n",
       "        vertical-align: middle;\n",
       "    }\n",
       "\n",
       "    .dataframe tbody tr th {\n",
       "        vertical-align: top;\n",
       "    }\n",
       "\n",
       "    .dataframe thead th {\n",
       "        text-align: right;\n",
       "    }\n",
       "</style>\n",
       "<table border=\"1\" class=\"dataframe\">\n",
       "  <thead>\n",
       "    <tr style=\"text-align: right;\">\n",
       "      <th></th>\n",
       "      <th>A</th>\n",
       "      <th>B</th>\n",
       "      <th>C</th>\n",
       "      <th>D</th>\n",
       "    </tr>\n",
       "  </thead>\n",
       "  <tbody>\n",
       "    <tr>\n",
       "      <th>2013-01-01</th>\n",
       "      <td>-0.670037</td>\n",
       "      <td>0.412447</td>\n",
       "      <td>-0.540445</td>\n",
       "      <td>0.958276</td>\n",
       "    </tr>\n",
       "    <tr>\n",
       "      <th>2013-01-02</th>\n",
       "      <td>-0.195359</td>\n",
       "      <td>0.001758</td>\n",
       "      <td>1.833323</td>\n",
       "      <td>-0.941238</td>\n",
       "    </tr>\n",
       "    <tr>\n",
       "      <th>2013-01-03</th>\n",
       "      <td>0.392205</td>\n",
       "      <td>-0.148470</td>\n",
       "      <td>0.745764</td>\n",
       "      <td>0.519683</td>\n",
       "    </tr>\n",
       "    <tr>\n",
       "      <th>2013-01-04</th>\n",
       "      <td>-0.814004</td>\n",
       "      <td>0.707982</td>\n",
       "      <td>-0.749365</td>\n",
       "      <td>-0.351240</td>\n",
       "    </tr>\n",
       "    <tr>\n",
       "      <th>2013-01-05</th>\n",
       "      <td>-0.532887</td>\n",
       "      <td>-0.591981</td>\n",
       "      <td>1.337439</td>\n",
       "      <td>-0.940435</td>\n",
       "    </tr>\n",
       "    <tr>\n",
       "      <th>2013-01-06</th>\n",
       "      <td>-2.043308</td>\n",
       "      <td>-0.071187</td>\n",
       "      <td>0.788198</td>\n",
       "      <td>-0.889776</td>\n",
       "    </tr>\n",
       "  </tbody>\n",
       "</table>\n",
       "</div>"
      ]
     },
     "execution_count": 29,
     "metadata": {},
     "output_type": "execute_result"
    }
   ],
   "execution_count": 29
  },
  {
   "metadata": {
    "ExecuteTime": {
     "end_time": "2025-09-23T13:26:12.226944Z",
     "start_time": "2025-09-23T13:26:12.217367Z"
    }
   },
   "cell_type": "code",
   "source": "df[0:3]",
   "id": "336dff3792e5a84c",
   "outputs": [
    {
     "data": {
      "text/plain": [
       "                   A         B         C         D\n",
       "2013-01-01 -0.670037  0.412447 -0.540445  0.958276\n",
       "2013-01-02 -0.195359  0.001758  1.833323 -0.941238\n",
       "2013-01-03  0.392205 -0.148470  0.745764  0.519683"
      ],
      "text/html": [
       "<div>\n",
       "<style scoped>\n",
       "    .dataframe tbody tr th:only-of-type {\n",
       "        vertical-align: middle;\n",
       "    }\n",
       "\n",
       "    .dataframe tbody tr th {\n",
       "        vertical-align: top;\n",
       "    }\n",
       "\n",
       "    .dataframe thead th {\n",
       "        text-align: right;\n",
       "    }\n",
       "</style>\n",
       "<table border=\"1\" class=\"dataframe\">\n",
       "  <thead>\n",
       "    <tr style=\"text-align: right;\">\n",
       "      <th></th>\n",
       "      <th>A</th>\n",
       "      <th>B</th>\n",
       "      <th>C</th>\n",
       "      <th>D</th>\n",
       "    </tr>\n",
       "  </thead>\n",
       "  <tbody>\n",
       "    <tr>\n",
       "      <th>2013-01-01</th>\n",
       "      <td>-0.670037</td>\n",
       "      <td>0.412447</td>\n",
       "      <td>-0.540445</td>\n",
       "      <td>0.958276</td>\n",
       "    </tr>\n",
       "    <tr>\n",
       "      <th>2013-01-02</th>\n",
       "      <td>-0.195359</td>\n",
       "      <td>0.001758</td>\n",
       "      <td>1.833323</td>\n",
       "      <td>-0.941238</td>\n",
       "    </tr>\n",
       "    <tr>\n",
       "      <th>2013-01-03</th>\n",
       "      <td>0.392205</td>\n",
       "      <td>-0.148470</td>\n",
       "      <td>0.745764</td>\n",
       "      <td>0.519683</td>\n",
       "    </tr>\n",
       "  </tbody>\n",
       "</table>\n",
       "</div>"
      ]
     },
     "execution_count": 30,
     "metadata": {},
     "output_type": "execute_result"
    }
   ],
   "execution_count": 30
  },
  {
   "metadata": {
    "ExecuteTime": {
     "end_time": "2025-09-23T13:26:30.447508Z",
     "start_time": "2025-09-23T13:26:30.426452Z"
    }
   },
   "cell_type": "code",
   "source": "df['20130102':'20130104']",
   "id": "219e063143445faa",
   "outputs": [
    {
     "data": {
      "text/plain": [
       "                   A         B         C         D\n",
       "2013-01-02 -0.195359  0.001758  1.833323 -0.941238\n",
       "2013-01-03  0.392205 -0.148470  0.745764  0.519683\n",
       "2013-01-04 -0.814004  0.707982 -0.749365 -0.351240"
      ],
      "text/html": [
       "<div>\n",
       "<style scoped>\n",
       "    .dataframe tbody tr th:only-of-type {\n",
       "        vertical-align: middle;\n",
       "    }\n",
       "\n",
       "    .dataframe tbody tr th {\n",
       "        vertical-align: top;\n",
       "    }\n",
       "\n",
       "    .dataframe thead th {\n",
       "        text-align: right;\n",
       "    }\n",
       "</style>\n",
       "<table border=\"1\" class=\"dataframe\">\n",
       "  <thead>\n",
       "    <tr style=\"text-align: right;\">\n",
       "      <th></th>\n",
       "      <th>A</th>\n",
       "      <th>B</th>\n",
       "      <th>C</th>\n",
       "      <th>D</th>\n",
       "    </tr>\n",
       "  </thead>\n",
       "  <tbody>\n",
       "    <tr>\n",
       "      <th>2013-01-02</th>\n",
       "      <td>-0.195359</td>\n",
       "      <td>0.001758</td>\n",
       "      <td>1.833323</td>\n",
       "      <td>-0.941238</td>\n",
       "    </tr>\n",
       "    <tr>\n",
       "      <th>2013-01-03</th>\n",
       "      <td>0.392205</td>\n",
       "      <td>-0.148470</td>\n",
       "      <td>0.745764</td>\n",
       "      <td>0.519683</td>\n",
       "    </tr>\n",
       "    <tr>\n",
       "      <th>2013-01-04</th>\n",
       "      <td>-0.814004</td>\n",
       "      <td>0.707982</td>\n",
       "      <td>-0.749365</td>\n",
       "      <td>-0.351240</td>\n",
       "    </tr>\n",
       "  </tbody>\n",
       "</table>\n",
       "</div>"
      ]
     },
     "execution_count": 31,
     "metadata": {},
     "output_type": "execute_result"
    }
   ],
   "execution_count": 31
  },
  {
   "metadata": {
    "ExecuteTime": {
     "end_time": "2025-09-23T13:31:02.438901Z",
     "start_time": "2025-09-23T13:31:02.434036Z"
    }
   },
   "cell_type": "code",
   "source": "np_array = np.random.randint(1,10,(5,5))",
   "id": "b1c6d4417f7c95ef",
   "outputs": [],
   "execution_count": 33
  },
  {
   "metadata": {
    "ExecuteTime": {
     "end_time": "2025-09-23T13:39:11.151163Z",
     "start_time": "2025-09-23T13:39:11.146722Z"
    }
   },
   "cell_type": "code",
   "source": "row_name = ['row1', 'row2', 'row3', 'row4', 'row5']",
   "id": "5b0dd09d6b426fab",
   "outputs": [],
   "execution_count": 64
  },
  {
   "metadata": {
    "ExecuteTime": {
     "end_time": "2025-09-23T13:33:30.724903Z",
     "start_time": "2025-09-23T13:33:30.720901Z"
    }
   },
   "cell_type": "code",
   "source": "column_name = list('ABCDE')",
   "id": "c1dd46586c627064",
   "outputs": [],
   "execution_count": 40
  },
  {
   "metadata": {
    "ExecuteTime": {
     "end_time": "2025-09-23T13:40:31.085756Z",
     "start_time": "2025-09-23T13:40:31.081492Z"
    }
   },
   "cell_type": "code",
   "source": "df1 = pd.DataFrame(np_array, index=row_name, columns=column_name)",
   "id": "3632226647e74d41",
   "outputs": [],
   "execution_count": 76
  },
  {
   "metadata": {
    "ExecuteTime": {
     "end_time": "2025-09-23T13:48:34.038663Z",
     "start_time": "2025-09-23T13:48:34.024936Z"
    }
   },
   "cell_type": "code",
   "source": "df1",
   "id": "664ae8877659b537",
   "outputs": [
    {
     "data": {
      "text/plain": [
       "      A  B  C  D  E\n",
       "row1  1  6  6  2  5\n",
       "row2  3  9  8  6  7\n",
       "row3  7  8  1  1  1\n",
       "row4  1  5  8  5  9\n",
       "row5  1  3  7  3  8"
      ],
      "text/html": [
       "<div>\n",
       "<style scoped>\n",
       "    .dataframe tbody tr th:only-of-type {\n",
       "        vertical-align: middle;\n",
       "    }\n",
       "\n",
       "    .dataframe tbody tr th {\n",
       "        vertical-align: top;\n",
       "    }\n",
       "\n",
       "    .dataframe thead th {\n",
       "        text-align: right;\n",
       "    }\n",
       "</style>\n",
       "<table border=\"1\" class=\"dataframe\">\n",
       "  <thead>\n",
       "    <tr style=\"text-align: right;\">\n",
       "      <th></th>\n",
       "      <th>A</th>\n",
       "      <th>B</th>\n",
       "      <th>C</th>\n",
       "      <th>D</th>\n",
       "      <th>E</th>\n",
       "    </tr>\n",
       "  </thead>\n",
       "  <tbody>\n",
       "    <tr>\n",
       "      <th>row1</th>\n",
       "      <td>1</td>\n",
       "      <td>6</td>\n",
       "      <td>6</td>\n",
       "      <td>2</td>\n",
       "      <td>5</td>\n",
       "    </tr>\n",
       "    <tr>\n",
       "      <th>row2</th>\n",
       "      <td>3</td>\n",
       "      <td>9</td>\n",
       "      <td>8</td>\n",
       "      <td>6</td>\n",
       "      <td>7</td>\n",
       "    </tr>\n",
       "    <tr>\n",
       "      <th>row3</th>\n",
       "      <td>7</td>\n",
       "      <td>8</td>\n",
       "      <td>1</td>\n",
       "      <td>1</td>\n",
       "      <td>1</td>\n",
       "    </tr>\n",
       "    <tr>\n",
       "      <th>row4</th>\n",
       "      <td>1</td>\n",
       "      <td>5</td>\n",
       "      <td>8</td>\n",
       "      <td>5</td>\n",
       "      <td>9</td>\n",
       "    </tr>\n",
       "    <tr>\n",
       "      <th>row5</th>\n",
       "      <td>1</td>\n",
       "      <td>3</td>\n",
       "      <td>7</td>\n",
       "      <td>3</td>\n",
       "      <td>8</td>\n",
       "    </tr>\n",
       "  </tbody>\n",
       "</table>\n",
       "</div>"
      ]
     },
     "execution_count": 87,
     "metadata": {},
     "output_type": "execute_result"
    }
   ],
   "execution_count": 87
  },
  {
   "metadata": {
    "ExecuteTime": {
     "end_time": "2025-09-23T13:50:51.911806Z",
     "start_time": "2025-09-23T13:50:51.903807Z"
    }
   },
   "cell_type": "code",
   "source": "df1[1:2]",
   "id": "a4a0448787afec9a",
   "outputs": [
    {
     "data": {
      "text/plain": [
       "      A  B  C  D  E\n",
       "row2  3  9  8  6  7"
      ],
      "text/html": [
       "<div>\n",
       "<style scoped>\n",
       "    .dataframe tbody tr th:only-of-type {\n",
       "        vertical-align: middle;\n",
       "    }\n",
       "\n",
       "    .dataframe tbody tr th {\n",
       "        vertical-align: top;\n",
       "    }\n",
       "\n",
       "    .dataframe thead th {\n",
       "        text-align: right;\n",
       "    }\n",
       "</style>\n",
       "<table border=\"1\" class=\"dataframe\">\n",
       "  <thead>\n",
       "    <tr style=\"text-align: right;\">\n",
       "      <th></th>\n",
       "      <th>A</th>\n",
       "      <th>B</th>\n",
       "      <th>C</th>\n",
       "      <th>D</th>\n",
       "      <th>E</th>\n",
       "    </tr>\n",
       "  </thead>\n",
       "  <tbody>\n",
       "    <tr>\n",
       "      <th>row2</th>\n",
       "      <td>3</td>\n",
       "      <td>9</td>\n",
       "      <td>8</td>\n",
       "      <td>6</td>\n",
       "      <td>7</td>\n",
       "    </tr>\n",
       "  </tbody>\n",
       "</table>\n",
       "</div>"
      ]
     },
     "execution_count": 92,
     "metadata": {},
     "output_type": "execute_result"
    }
   ],
   "execution_count": 92
  },
  {
   "metadata": {
    "ExecuteTime": {
     "end_time": "2025-09-23T13:41:48.042058Z",
     "start_time": "2025-09-23T13:41:47.941144Z"
    }
   },
   "cell_type": "code",
   "source": "df1.loc['row1',df1['row1']>4]",
   "id": "f5af7c19ac6984bd",
   "outputs": [
    {
     "ename": "KeyError",
     "evalue": "'row1'",
     "output_type": "error",
     "traceback": [
      "\u001B[31m---------------------------------------------------------------------------\u001B[39m",
      "\u001B[31mKeyError\u001B[39m                                  Traceback (most recent call last)",
      "\u001B[36mFile \u001B[39m\u001B[32mG:\\DevEnv\\anaconda\\envs\\dl\\Lib\\site-packages\\pandas\\core\\indexes\\base.py:3812\u001B[39m, in \u001B[36mIndex.get_loc\u001B[39m\u001B[34m(self, key)\u001B[39m\n\u001B[32m   3811\u001B[39m \u001B[38;5;28;01mtry\u001B[39;00m:\n\u001B[32m-> \u001B[39m\u001B[32m3812\u001B[39m     \u001B[38;5;28;01mreturn\u001B[39;00m \u001B[38;5;28;43mself\u001B[39;49m\u001B[43m.\u001B[49m\u001B[43m_engine\u001B[49m\u001B[43m.\u001B[49m\u001B[43mget_loc\u001B[49m\u001B[43m(\u001B[49m\u001B[43mcasted_key\u001B[49m\u001B[43m)\u001B[49m\n\u001B[32m   3813\u001B[39m \u001B[38;5;28;01mexcept\u001B[39;00m \u001B[38;5;167;01mKeyError\u001B[39;00m \u001B[38;5;28;01mas\u001B[39;00m err:\n",
      "\u001B[36mFile \u001B[39m\u001B[32mpandas/_libs/index.pyx:167\u001B[39m, in \u001B[36mpandas._libs.index.IndexEngine.get_loc\u001B[39m\u001B[34m()\u001B[39m\n",
      "\u001B[36mFile \u001B[39m\u001B[32mpandas/_libs/index.pyx:196\u001B[39m, in \u001B[36mpandas._libs.index.IndexEngine.get_loc\u001B[39m\u001B[34m()\u001B[39m\n",
      "\u001B[36mFile \u001B[39m\u001B[32mpandas/_libs/hashtable_class_helper.pxi:7088\u001B[39m, in \u001B[36mpandas._libs.hashtable.PyObjectHashTable.get_item\u001B[39m\u001B[34m()\u001B[39m\n",
      "\u001B[36mFile \u001B[39m\u001B[32mpandas/_libs/hashtable_class_helper.pxi:7096\u001B[39m, in \u001B[36mpandas._libs.hashtable.PyObjectHashTable.get_item\u001B[39m\u001B[34m()\u001B[39m\n",
      "\u001B[31mKeyError\u001B[39m: 'row1'",
      "\nThe above exception was the direct cause of the following exception:\n",
      "\u001B[31mKeyError\u001B[39m                                  Traceback (most recent call last)",
      "\u001B[36mCell\u001B[39m\u001B[36m \u001B[39m\u001B[32mIn[80]\u001B[39m\u001B[32m, line 1\u001B[39m\n\u001B[32m----> \u001B[39m\u001B[32m1\u001B[39m df1.loc[\u001B[33m'\u001B[39m\u001B[33mrow1\u001B[39m\u001B[33m'\u001B[39m,\u001B[43mdf1\u001B[49m\u001B[43m[\u001B[49m\u001B[33;43m'\u001B[39;49m\u001B[33;43mrow1\u001B[39;49m\u001B[33;43m'\u001B[39;49m\u001B[43m]\u001B[49m>\u001B[32m4\u001B[39m]\n",
      "\u001B[36mFile \u001B[39m\u001B[32mG:\\DevEnv\\anaconda\\envs\\dl\\Lib\\site-packages\\pandas\\core\\frame.py:4107\u001B[39m, in \u001B[36mDataFrame.__getitem__\u001B[39m\u001B[34m(self, key)\u001B[39m\n\u001B[32m   4105\u001B[39m \u001B[38;5;28;01mif\u001B[39;00m \u001B[38;5;28mself\u001B[39m.columns.nlevels > \u001B[32m1\u001B[39m:\n\u001B[32m   4106\u001B[39m     \u001B[38;5;28;01mreturn\u001B[39;00m \u001B[38;5;28mself\u001B[39m._getitem_multilevel(key)\n\u001B[32m-> \u001B[39m\u001B[32m4107\u001B[39m indexer = \u001B[38;5;28;43mself\u001B[39;49m\u001B[43m.\u001B[49m\u001B[43mcolumns\u001B[49m\u001B[43m.\u001B[49m\u001B[43mget_loc\u001B[49m\u001B[43m(\u001B[49m\u001B[43mkey\u001B[49m\u001B[43m)\u001B[49m\n\u001B[32m   4108\u001B[39m \u001B[38;5;28;01mif\u001B[39;00m is_integer(indexer):\n\u001B[32m   4109\u001B[39m     indexer = [indexer]\n",
      "\u001B[36mFile \u001B[39m\u001B[32mG:\\DevEnv\\anaconda\\envs\\dl\\Lib\\site-packages\\pandas\\core\\indexes\\base.py:3819\u001B[39m, in \u001B[36mIndex.get_loc\u001B[39m\u001B[34m(self, key)\u001B[39m\n\u001B[32m   3814\u001B[39m     \u001B[38;5;28;01mif\u001B[39;00m \u001B[38;5;28misinstance\u001B[39m(casted_key, \u001B[38;5;28mslice\u001B[39m) \u001B[38;5;129;01mor\u001B[39;00m (\n\u001B[32m   3815\u001B[39m         \u001B[38;5;28misinstance\u001B[39m(casted_key, abc.Iterable)\n\u001B[32m   3816\u001B[39m         \u001B[38;5;129;01mand\u001B[39;00m \u001B[38;5;28many\u001B[39m(\u001B[38;5;28misinstance\u001B[39m(x, \u001B[38;5;28mslice\u001B[39m) \u001B[38;5;28;01mfor\u001B[39;00m x \u001B[38;5;129;01min\u001B[39;00m casted_key)\n\u001B[32m   3817\u001B[39m     ):\n\u001B[32m   3818\u001B[39m         \u001B[38;5;28;01mraise\u001B[39;00m InvalidIndexError(key)\n\u001B[32m-> \u001B[39m\u001B[32m3819\u001B[39m     \u001B[38;5;28;01mraise\u001B[39;00m \u001B[38;5;167;01mKeyError\u001B[39;00m(key) \u001B[38;5;28;01mfrom\u001B[39;00m\u001B[38;5;250m \u001B[39m\u001B[34;01merr\u001B[39;00m\n\u001B[32m   3820\u001B[39m \u001B[38;5;28;01mexcept\u001B[39;00m \u001B[38;5;167;01mTypeError\u001B[39;00m:\n\u001B[32m   3821\u001B[39m     \u001B[38;5;66;03m# If we have a listlike key, _check_indexing_error will raise\u001B[39;00m\n\u001B[32m   3822\u001B[39m     \u001B[38;5;66;03m#  InvalidIndexError. Otherwise we fall through and re-raise\u001B[39;00m\n\u001B[32m   3823\u001B[39m     \u001B[38;5;66;03m#  the TypeError.\u001B[39;00m\n\u001B[32m   3824\u001B[39m     \u001B[38;5;28mself\u001B[39m._check_indexing_error(key)\n",
      "\u001B[31mKeyError\u001B[39m: 'row1'"
     ]
    }
   ],
   "execution_count": 80
  },
  {
   "metadata": {
    "ExecuteTime": {
     "end_time": "2025-09-23T14:53:13.077235Z",
     "start_time": "2025-09-23T14:53:13.071060Z"
    }
   },
   "cell_type": "code",
   "source": "df.index",
   "id": "46707159106af00e",
   "outputs": [
    {
     "data": {
      "text/plain": [
       "DatetimeIndex(['2013-01-01', '2013-01-02', '2013-01-03', '2013-01-04',\n",
       "               '2013-01-05', '2013-01-06'],\n",
       "              dtype='datetime64[ns]', freq='D')"
      ]
     },
     "execution_count": 93,
     "metadata": {},
     "output_type": "execute_result"
    }
   ],
   "execution_count": 93
  },
  {
   "metadata": {},
   "cell_type": "code",
   "outputs": [],
   "execution_count": null,
   "source": "",
   "id": "767ccabb2e169714"
  }
 ],
 "metadata": {
  "kernelspec": {
   "display_name": "Python 3",
   "language": "python",
   "name": "python3"
  },
  "language_info": {
   "codemirror_mode": {
    "name": "ipython",
    "version": 2
   },
   "file_extension": ".py",
   "mimetype": "text/x-python",
   "name": "python",
   "nbconvert_exporter": "python",
   "pygments_lexer": "ipython2",
   "version": "2.7.6"
  }
 },
 "nbformat": 4,
 "nbformat_minor": 5
}
