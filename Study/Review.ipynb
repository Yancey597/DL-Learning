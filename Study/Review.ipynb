{
 "cells": [
  {
   "cell_type": "code",
   "id": "initial_id",
   "metadata": {
    "collapsed": true,
    "ExecuteTime": {
     "end_time": "2025-10-08T03:13:30.408906Z",
     "start_time": "2025-10-08T03:13:28.511676Z"
    }
   },
   "source": [
    "import numpy as np\n",
    "import pandas as pd\n",
    "import matplotlib.pyplot as plt"
   ],
   "outputs": [],
   "execution_count": 1
  },
  {
   "metadata": {
    "ExecuteTime": {
     "end_time": "2025-10-08T03:13:46.587221Z",
     "start_time": "2025-10-08T03:13:46.582810Z"
    }
   },
   "cell_type": "code",
   "source": "x = np.linspace(0, 10, 100)",
   "id": "e1e5571a40519e",
   "outputs": [],
   "execution_count": 2
  },
  {
   "metadata": {
    "ExecuteTime": {
     "end_time": "2025-10-08T03:13:49.374060Z",
     "start_time": "2025-10-08T03:13:49.365613Z"
    }
   },
   "cell_type": "code",
   "source": "x",
   "id": "d7f9b32b797ce72b",
   "outputs": [
    {
     "data": {
      "text/plain": [
       "array([ 0.        ,  0.1010101 ,  0.2020202 ,  0.3030303 ,  0.4040404 ,\n",
       "        0.50505051,  0.60606061,  0.70707071,  0.80808081,  0.90909091,\n",
       "        1.01010101,  1.11111111,  1.21212121,  1.31313131,  1.41414141,\n",
       "        1.51515152,  1.61616162,  1.71717172,  1.81818182,  1.91919192,\n",
       "        2.02020202,  2.12121212,  2.22222222,  2.32323232,  2.42424242,\n",
       "        2.52525253,  2.62626263,  2.72727273,  2.82828283,  2.92929293,\n",
       "        3.03030303,  3.13131313,  3.23232323,  3.33333333,  3.43434343,\n",
       "        3.53535354,  3.63636364,  3.73737374,  3.83838384,  3.93939394,\n",
       "        4.04040404,  4.14141414,  4.24242424,  4.34343434,  4.44444444,\n",
       "        4.54545455,  4.64646465,  4.74747475,  4.84848485,  4.94949495,\n",
       "        5.05050505,  5.15151515,  5.25252525,  5.35353535,  5.45454545,\n",
       "        5.55555556,  5.65656566,  5.75757576,  5.85858586,  5.95959596,\n",
       "        6.06060606,  6.16161616,  6.26262626,  6.36363636,  6.46464646,\n",
       "        6.56565657,  6.66666667,  6.76767677,  6.86868687,  6.96969697,\n",
       "        7.07070707,  7.17171717,  7.27272727,  7.37373737,  7.47474747,\n",
       "        7.57575758,  7.67676768,  7.77777778,  7.87878788,  7.97979798,\n",
       "        8.08080808,  8.18181818,  8.28282828,  8.38383838,  8.48484848,\n",
       "        8.58585859,  8.68686869,  8.78787879,  8.88888889,  8.98989899,\n",
       "        9.09090909,  9.19191919,  9.29292929,  9.39393939,  9.49494949,\n",
       "        9.5959596 ,  9.6969697 ,  9.7979798 ,  9.8989899 , 10.        ])"
      ]
     },
     "execution_count": 3,
     "metadata": {},
     "output_type": "execute_result"
    }
   ],
   "execution_count": 3
  },
  {
   "metadata": {
    "ExecuteTime": {
     "end_time": "2025-10-08T03:14:38.089323Z",
     "start_time": "2025-10-08T03:14:38.083764Z"
    }
   },
   "cell_type": "code",
   "source": "x = np.random.randint(1,10,20)",
   "id": "a69f5c720ff98234",
   "outputs": [],
   "execution_count": 6
  },
  {
   "metadata": {
    "ExecuteTime": {
     "end_time": "2025-10-08T03:14:40.463039Z",
     "start_time": "2025-10-08T03:14:40.457603Z"
    }
   },
   "cell_type": "code",
   "source": "x",
   "id": "44cf6b78b64bd586",
   "outputs": [
    {
     "data": {
      "text/plain": [
       "array([6, 1, 9, 7, 6, 8, 4, 4, 4, 4, 6, 1, 2, 6, 8, 4, 6, 2, 5, 9],\n",
       "      dtype=int32)"
      ]
     },
     "execution_count": 7,
     "metadata": {},
     "output_type": "execute_result"
    }
   ],
   "execution_count": 7
  },
  {
   "metadata": {
    "ExecuteTime": {
     "end_time": "2025-10-08T03:14:53.088428Z",
     "start_time": "2025-10-08T03:14:53.079878Z"
    }
   },
   "cell_type": "code",
   "source": "x.reshape(4,-1)",
   "id": "99f4bd87b9330944",
   "outputs": [
    {
     "data": {
      "text/plain": [
       "array([[6, 1, 9, 7, 6],\n",
       "       [8, 4, 4, 4, 4],\n",
       "       [6, 1, 2, 6, 8],\n",
       "       [4, 6, 2, 5, 9]], dtype=int32)"
      ]
     },
     "execution_count": 8,
     "metadata": {},
     "output_type": "execute_result"
    }
   ],
   "execution_count": 8
  },
  {
   "metadata": {
    "ExecuteTime": {
     "end_time": "2025-10-08T03:15:02.367530Z",
     "start_time": "2025-10-08T03:15:02.363497Z"
    }
   },
   "cell_type": "code",
   "source": "x = x.reshape(4,-1)",
   "id": "909f1eaf775baba2",
   "outputs": [],
   "execution_count": 10
  },
  {
   "metadata": {
    "ExecuteTime": {
     "end_time": "2025-10-08T03:15:03.380189Z",
     "start_time": "2025-10-08T03:15:03.372671Z"
    }
   },
   "cell_type": "code",
   "source": "x",
   "id": "93904e205c02f5ea",
   "outputs": [
    {
     "data": {
      "text/plain": [
       "array([[6, 1, 9, 7, 6],\n",
       "       [8, 4, 4, 4, 4],\n",
       "       [6, 1, 2, 6, 8],\n",
       "       [4, 6, 2, 5, 9]], dtype=int32)"
      ]
     },
     "execution_count": 11,
     "metadata": {},
     "output_type": "execute_result"
    }
   ],
   "execution_count": 11
  },
  {
   "metadata": {
    "ExecuteTime": {
     "end_time": "2025-10-08T03:16:39.039589Z",
     "start_time": "2025-10-08T03:16:39.033289Z"
    }
   },
   "cell_type": "code",
   "source": "np.sort(x,axis=0)",
   "id": "1ae81cb00273d925",
   "outputs": [
    {
     "data": {
      "text/plain": [
       "array([[4, 1, 2, 4, 4],\n",
       "       [6, 1, 2, 5, 6],\n",
       "       [6, 4, 4, 6, 8],\n",
       "       [8, 6, 9, 7, 9]], dtype=int32)"
      ]
     },
     "execution_count": 13,
     "metadata": {},
     "output_type": "execute_result"
    }
   ],
   "execution_count": 13
  },
  {
   "metadata": {
    "ExecuteTime": {
     "end_time": "2025-10-08T03:17:07.775681Z",
     "start_time": "2025-10-08T03:17:07.769564Z"
    }
   },
   "cell_type": "code",
   "source": "x",
   "id": "239438749f72f913",
   "outputs": [
    {
     "data": {
      "text/plain": [
       "array([[6, 1, 9, 7, 6],\n",
       "       [8, 4, 4, 4, 4],\n",
       "       [6, 1, 2, 6, 8],\n",
       "       [4, 6, 2, 5, 9]], dtype=int32)"
      ]
     },
     "execution_count": 14,
     "metadata": {},
     "output_type": "execute_result"
    }
   ],
   "execution_count": 14
  },
  {
   "metadata": {
    "ExecuteTime": {
     "end_time": "2025-10-08T03:17:20.463335Z",
     "start_time": "2025-10-08T03:17:20.456578Z"
    }
   },
   "cell_type": "code",
   "source": "np.argsort(x,axis=0)",
   "id": "a7fffc8fb60041ef",
   "outputs": [
    {
     "data": {
      "text/plain": [
       "array([[3, 0, 3, 1, 1],\n",
       "       [0, 2, 2, 3, 0],\n",
       "       [2, 1, 1, 2, 2],\n",
       "       [1, 3, 0, 0, 3]])"
      ]
     },
     "execution_count": 15,
     "metadata": {},
     "output_type": "execute_result"
    }
   ],
   "execution_count": 15
  },
  {
   "metadata": {
    "ExecuteTime": {
     "end_time": "2025-10-08T03:18:37.664778Z",
     "start_time": "2025-10-08T03:18:37.657881Z"
    }
   },
   "cell_type": "code",
   "source": "np.argmax(x,axis=0)",
   "id": "cd55cfd0854aacc6",
   "outputs": [
    {
     "data": {
      "text/plain": [
       "array([1, 3, 0, 0, 3])"
      ]
     },
     "execution_count": 16,
     "metadata": {},
     "output_type": "execute_result"
    }
   ],
   "execution_count": 16
  },
  {
   "metadata": {
    "ExecuteTime": {
     "end_time": "2025-10-08T03:19:05.257063Z",
     "start_time": "2025-10-08T03:19:05.250270Z"
    }
   },
   "cell_type": "code",
   "source": "x[x>1]",
   "id": "9710b7d4d1bc8b1b",
   "outputs": [
    {
     "data": {
      "text/plain": [
       "array([6, 9, 7, 6, 8, 4, 4, 4, 4, 6, 2, 6, 8, 4, 6, 2, 5, 9], dtype=int32)"
      ]
     },
     "execution_count": 17,
     "metadata": {},
     "output_type": "execute_result"
    }
   ],
   "execution_count": 17
  },
  {
   "metadata": {
    "ExecuteTime": {
     "end_time": "2025-10-08T03:19:29.459359Z",
     "start_time": "2025-10-08T03:19:29.452834Z"
    }
   },
   "cell_type": "code",
   "source": "x[x>13]",
   "id": "76bf05316b044420",
   "outputs": [
    {
     "data": {
      "text/plain": [
       "array([], dtype=int32)"
      ]
     },
     "execution_count": 20,
     "metadata": {},
     "output_type": "execute_result"
    }
   ],
   "execution_count": 20
  },
  {
   "metadata": {
    "ExecuteTime": {
     "end_time": "2025-10-08T03:25:56.484800Z",
     "start_time": "2025-10-08T03:25:56.480803Z"
    }
   },
   "cell_type": "code",
   "source": "idx = [0,1,3]",
   "id": "a67181d0414881bd",
   "outputs": [],
   "execution_count": 25
  },
  {
   "metadata": {
    "ExecuteTime": {
     "end_time": "2025-10-08T03:25:57.004427Z",
     "start_time": "2025-10-08T03:25:56.998308Z"
    }
   },
   "cell_type": "code",
   "source": "x[idx][x[idx]>6]",
   "id": "ba2a422d5e60b2e",
   "outputs": [
    {
     "data": {
      "text/plain": [
       "array([9, 7, 8, 9], dtype=int32)"
      ]
     },
     "execution_count": 26,
     "metadata": {},
     "output_type": "execute_result"
    }
   ],
   "execution_count": 26
  },
  {
   "metadata": {
    "ExecuteTime": {
     "end_time": "2025-10-08T03:26:23.562152Z",
     "start_time": "2025-10-08T03:26:23.556638Z"
    }
   },
   "cell_type": "code",
   "source": "x",
   "id": "bfdd4916e03b18e5",
   "outputs": [
    {
     "data": {
      "text/plain": [
       "array([[6, 1, 9, 7, 6],\n",
       "       [8, 4, 4, 4, 4],\n",
       "       [6, 1, 2, 6, 8],\n",
       "       [4, 6, 2, 5, 9]], dtype=int32)"
      ]
     },
     "execution_count": 27,
     "metadata": {},
     "output_type": "execute_result"
    }
   ],
   "execution_count": 27
  },
  {
   "metadata": {
    "ExecuteTime": {
     "end_time": "2025-10-08T03:26:56.797279Z",
     "start_time": "2025-10-08T03:26:56.793291Z"
    }
   },
   "cell_type": "code",
   "source": "x1 = np.linspace(-10,10,500)",
   "id": "4e29fbdc1dfbc5b2",
   "outputs": [],
   "execution_count": 28
  },
  {
   "metadata": {
    "ExecuteTime": {
     "end_time": "2025-10-08T03:27:49.546610Z",
     "start_time": "2025-10-08T03:27:49.323033Z"
    }
   },
   "cell_type": "code",
   "source": [
    "y1 = np.sin(x1)\n",
    "y2 = np.cos(x1)\n",
    "\n",
    "plt.plot(x1,y1, color='green', linestyle=':', label='sin(x)')\n",
    "plt.plot(x1,y2, label='cos(x)')\n",
    "plt.title('My first plot')\n",
    "plt.xlabel('x')\n",
    "plt.ylabel('y')\n",
    "plt.axis([-10,10,-1.5,1.5])\n",
    "plt.legend()\n",
    "plt.show()"
   ],
   "id": "c290a4448d552a25",
   "outputs": [
    {
     "data": {
      "text/plain": [
       "<Figure size 640x480 with 1 Axes>"
      ],
      "image/png": "[encoded data removed]"
     },
     "metadata": {},
     "output_type": "display_data"
    }
   ],
   "execution_count": 29
  },
  {
   "metadata": {},
   "cell_type": "code",
   "outputs": [],
   "execution_count": null,
   "source": "",
   "id": "562413f5a0aa122d"
  }
 ],
 "metadata": {
  "kernelspec": {
   "display_name": "Python 3",
   "language": "python",
   "name": "python3"
  },
  "language_info": {
   "codemirror_mode": {
    "name": "ipython",
    "version": 2
   },
   "file_extension": ".py",
   "mimetype": "text/x-python",
   "name": "python",
   "nbconvert_exporter": "python",
   "pygments_lexer": "ipython2",
   "version": "2.7.6"
  }
 },
 "nbformat": 4,
 "nbformat_minor": 5
}
