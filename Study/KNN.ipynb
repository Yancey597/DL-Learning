{
 "cells": [
  {
   "cell_type": "code",
   "id": "initial_id",
   "metadata": {
    "collapsed": true,
    "ExecuteTime": {
     "end_time": "2025-10-10T07:52:40.443543Z",
     "start_time": "2025-10-10T07:52:39.543597Z"
    }
   },
   "source": [
    "from collections import Counter\n",
    "\n",
    "import numpy as np\n",
    "import matplotlib.pyplot as plt"
   ],
   "outputs": [],
   "execution_count": 1
  },
  {
   "metadata": {
    "ExecuteTime": {
     "end_time": "2025-10-10T07:52:40.466759Z",
     "start_time": "2025-10-10T07:52:40.456636Z"
    }
   },
   "cell_type": "code",
   "source": [
    "data_X = np.array( [\n",
    "    [1.3, 6],\n",
    "    [3.5, 5],\n",
    "    [4.2, 2],\n",
    "    [5, 3.3],\n",
    "    [2, 9],\n",
    "    [5, 7.5],\n",
    "    [7.2, 4],\n",
    "    [8.1, 8],\n",
    "    [9, 2.5]\n",
    "])\n",
    "print(data_X.shape)"
   ],
   "id": "7d61d9e4cd3e4059",
   "outputs": [
    {
     "name": "stdout",
     "output_type": "stream",
     "text": [
      "(9, 2)\n"
     ]
    }
   ],
   "execution_count": 2
  },
  {
   "metadata": {
    "ExecuteTime": {
     "end_time": "2025-10-10T07:52:40.936130Z",
     "start_time": "2025-10-10T07:52:40.930130Z"
    }
   },
   "cell_type": "code",
   "source": "data_y = np.array( [0,0,0,0,1,1,1,1,1] )",
   "id": "c4f54abf95cb543a",
   "outputs": [],
   "execution_count": 3
  },
  {
   "metadata": {
    "ExecuteTime": {
     "end_time": "2025-10-10T07:52:40.953339Z",
     "start_time": "2025-10-10T07:52:40.948294Z"
    }
   },
   "cell_type": "code",
   "source": [
    "x_train = data_X\n",
    "y_train = data_y"
   ],
   "id": "c1250b678df1b339",
   "outputs": [],
   "execution_count": 4
  },
  {
   "metadata": {
    "ExecuteTime": {
     "end_time": "2025-10-10T07:52:41.105442Z",
     "start_time": "2025-10-10T07:52:41.093933Z"
    }
   },
   "cell_type": "code",
   "source": "x_train",
   "id": "d6a0b13b1cd5082e",
   "outputs": [
    {
     "data": {
      "text/plain": [
       "array([[1.3, 6. ],\n",
       "       [3.5, 5. ],\n",
       "       [4.2, 2. ],\n",
       "       [5. , 3.3],\n",
       "       [2. , 9. ],\n",
       "       [5. , 7.5],\n",
       "       [7.2, 4. ],\n",
       "       [8.1, 8. ],\n",
       "       [9. , 2.5]])"
      ]
     },
     "execution_count": 5,
     "metadata": {},
     "output_type": "execute_result"
    }
   ],
   "execution_count": 5
  },
  {
   "metadata": {
    "ExecuteTime": {
     "end_time": "2025-10-10T07:52:42.046371Z",
     "start_time": "2025-10-10T07:52:42.040094Z"
    }
   },
   "cell_type": "code",
   "source": "y_train == 0",
   "id": "e3613ec55916226d",
   "outputs": [
    {
     "data": {
      "text/plain": [
       "array([ True,  True,  True,  True, False, False, False, False, False])"
      ]
     },
     "execution_count": 6,
     "metadata": {},
     "output_type": "execute_result"
    }
   ],
   "execution_count": 6
  },
  {
   "metadata": {
    "ExecuteTime": {
     "end_time": "2025-10-10T07:52:42.145782Z",
     "start_time": "2025-10-10T07:52:42.139736Z"
    }
   },
   "cell_type": "code",
   "source": "X = x_train[y_train==0,0]",
   "id": "21c4af8fb3655002",
   "outputs": [],
   "execution_count": 7
  },
  {
   "metadata": {
    "ExecuteTime": {
     "end_time": "2025-10-10T07:52:42.187461Z",
     "start_time": "2025-10-10T07:52:42.181442Z"
    }
   },
   "cell_type": "code",
   "source": "X",
   "id": "a408f744ac20081c",
   "outputs": [
    {
     "data": {
      "text/plain": [
       "array([1.3, 3.5, 4.2, 5. ])"
      ]
     },
     "execution_count": 8,
     "metadata": {},
     "output_type": "execute_result"
    }
   ],
   "execution_count": 8
  },
  {
   "metadata": {
    "ExecuteTime": {
     "end_time": "2025-10-10T07:52:42.286086Z",
     "start_time": "2025-10-10T07:52:42.280620Z"
    }
   },
   "cell_type": "code",
   "source": "todo = np.array([4,5])",
   "id": "cc125c70e28f80b3",
   "outputs": [],
   "execution_count": 9
  },
  {
   "metadata": {
    "ExecuteTime": {
     "end_time": "2025-10-10T07:52:42.599882Z",
     "start_time": "2025-10-10T07:52:42.348310Z"
    }
   },
   "cell_type": "code",
   "source": [
    "plt.scatter(todo[0], todo[1], color='blue', marker='*', s=200)\n",
    "plt.scatter(x_train[y_train==0,0],x_train[y_train==0,1], color='red',marker='o')\n",
    "plt.scatter(x_train[y_train==1,0],x_train[y_train==1,1], color='black',marker='x')"
   ],
   "id": "ccfbe75456681919",
   "outputs": [
    {
     "data": {
      "text/plain": [
       "<matplotlib.collections.PathCollection at 0x2a41b402f00>"
      ]
     },
     "execution_count": 10,
     "metadata": {},
     "output_type": "execute_result"
    },
    {
     "data": {
      "text/plain": [
       "<Figure size 640x480 with 1 Axes>"
      ],
      "image/png": "[encoded data removed]"
     },
     "metadata": {},
     "output_type": "display_data"
    }
   ],
   "execution_count": 10
  },
  {
   "metadata": {
    "ExecuteTime": {
     "end_time": "2025-10-10T07:52:42.661754Z",
     "start_time": "2025-10-10T07:52:42.654414Z"
    }
   },
   "cell_type": "code",
   "source": "todo",
   "id": "8e2447bb26458a0a",
   "outputs": [
    {
     "data": {
      "text/plain": [
       "array([4, 5])"
      ]
     },
     "execution_count": 11,
     "metadata": {},
     "output_type": "execute_result"
    }
   ],
   "execution_count": 11
  },
  {
   "metadata": {
    "ExecuteTime": {
     "end_time": "2025-10-10T07:52:42.796461Z",
     "start_time": "2025-10-10T07:52:42.790315Z"
    }
   },
   "cell_type": "code",
   "source": "distance = np.sqrt( np.sum( (x_train - todo)**2, axis=1 ) )",
   "id": "d7557126324f3aab",
   "outputs": [],
   "execution_count": 12
  },
  {
   "metadata": {
    "ExecuteTime": {
     "end_time": "2025-10-10T07:52:42.839330Z",
     "start_time": "2025-10-10T07:52:42.832260Z"
    }
   },
   "cell_type": "code",
   "source": "distance",
   "id": "76008398df72f6ff",
   "outputs": [
    {
     "data": {
      "text/plain": [
       "array([2.87923601, 0.5       , 3.00665928, 1.97230829, 4.47213595,\n",
       "       2.6925824 , 3.35261092, 5.08035432, 5.59016994])"
      ]
     },
     "execution_count": 13,
     "metadata": {},
     "output_type": "execute_result"
    }
   ],
   "execution_count": 13
  },
  {
   "metadata": {
    "ExecuteTime": {
     "end_time": "2025-10-10T07:52:57.522563Z",
     "start_time": "2025-10-10T07:52:57.515551Z"
    }
   },
   "cell_type": "code",
   "source": "np.argsort(distance)",
   "id": "811b9952ecad2861",
   "outputs": [
    {
     "data": {
      "text/plain": [
       "array([1, 3, 5, 0, 2, 6, 4, 7, 8])"
      ]
     },
     "execution_count": 14,
     "metadata": {},
     "output_type": "execute_result"
    }
   ],
   "execution_count": 14
  },
  {
   "metadata": {
    "ExecuteTime": {
     "end_time": "2025-10-10T07:53:51.936335Z",
     "start_time": "2025-10-10T07:53:51.930048Z"
    }
   },
   "cell_type": "code",
   "source": "sortIndex = np.argsort(distance) # 返回从小到大排序的索引",
   "id": "a740bde3a7f083ab",
   "outputs": [],
   "execution_count": 15
  },
  {
   "metadata": {
    "ExecuteTime": {
     "end_time": "2025-10-10T07:53:54.161722Z",
     "start_time": "2025-10-10T07:53:54.153720Z"
    }
   },
   "cell_type": "code",
   "source": "sortIndex",
   "id": "bdcc27686c8e513c",
   "outputs": [
    {
     "data": {
      "text/plain": [
       "array([1, 3, 5, 0, 2, 6, 4, 7, 8])"
      ]
     },
     "execution_count": 16,
     "metadata": {},
     "output_type": "execute_result"
    }
   ],
   "execution_count": 16
  },
  {
   "metadata": {
    "ExecuteTime": {
     "end_time": "2025-10-10T07:54:14.424988Z",
     "start_time": "2025-10-10T07:54:14.420463Z"
    }
   },
   "cell_type": "code",
   "source": "k = 5",
   "id": "38ab8b4f285ac354",
   "outputs": [],
   "execution_count": 17
  },
  {
   "metadata": {
    "ExecuteTime": {
     "end_time": "2025-10-10T08:09:23.139059Z",
     "start_time": "2025-10-10T08:09:23.133616Z"
    }
   },
   "cell_type": "code",
   "source": "firstK = [y_train[i] for i in sortIndex[:k]]",
   "id": "773bd3b9c175c3b7",
   "outputs": [],
   "execution_count": 52
  },
  {
   "metadata": {
    "ExecuteTime": {
     "end_time": "2025-10-10T08:09:24.293280Z",
     "start_time": "2025-10-10T08:09:24.284690Z"
    }
   },
   "cell_type": "code",
   "source": "firstK",
   "id": "7170a8f403ec23d0",
   "outputs": [
    {
     "data": {
      "text/plain": [
       "[np.int64(0), np.int64(0), np.int64(1), np.int64(0), np.int64(0)]"
      ]
     },
     "execution_count": 53,
     "metadata": {},
     "output_type": "execute_result"
    }
   ],
   "execution_count": 53
  },
  {
   "metadata": {
    "ExecuteTime": {
     "end_time": "2025-10-10T08:09:18.426519Z",
     "start_time": "2025-10-10T08:09:18.417987Z"
    }
   },
   "cell_type": "code",
   "source": "Counter(firstK)",
   "id": "80cd2f9ea0b8193b",
   "outputs": [
    {
     "data": {
      "text/plain": [
       "Counter({np.int64(0): 4, np.int64(1): 1})"
      ]
     },
     "execution_count": 50,
     "metadata": {},
     "output_type": "execute_result"
    }
   ],
   "execution_count": 50
  },
  {
   "metadata": {
    "ExecuteTime": {
     "end_time": "2025-10-10T08:09:13.777156Z",
     "start_time": "2025-10-10T08:09:13.767814Z"
    }
   },
   "cell_type": "code",
   "source": "Counter(firstK).most_common(1) #出现最多次数的数字可能多于一个，返回值是个元组列表",
   "id": "643b3e25922c308f",
   "outputs": [
    {
     "data": {
      "text/plain": [
       "[(np.int64(0), 4)]"
      ]
     },
     "execution_count": 49,
     "metadata": {},
     "output_type": "execute_result"
    }
   ],
   "execution_count": 49
  },
  {
   "metadata": {
    "ExecuteTime": {
     "end_time": "2025-10-10T08:05:57.292369Z",
     "start_time": "2025-10-10T08:05:57.286375Z"
    }
   },
   "cell_type": "code",
   "source": "Counter(firstK).most_common(1)[0] # 返回该列表的第一个元组\n",
   "id": "f6c83cb33ea4c541",
   "outputs": [
    {
     "data": {
      "text/plain": [
       "(np.int64(0), 4)"
      ]
     },
     "execution_count": 44,
     "metadata": {},
     "output_type": "execute_result"
    }
   ],
   "execution_count": 44
  },
  {
   "metadata": {
    "ExecuteTime": {
     "end_time": "2025-10-10T08:08:23.488741Z",
     "start_time": "2025-10-10T08:08:23.483561Z"
    }
   },
   "cell_type": "code",
   "source": "pridict_ = Counter(firstK).most_common(1)[0][0] # 返回该元组的第一个元素，即出现次数最多的数字\n",
   "id": "fb9f2bd94904fe5a",
   "outputs": [],
   "execution_count": 47
  },
  {
   "metadata": {
    "ExecuteTime": {
     "end_time": "2025-10-10T08:08:25.652630Z",
     "start_time": "2025-10-10T08:08:25.645757Z"
    }
   },
   "cell_type": "code",
   "source": "pridict_",
   "id": "9487faa2455d3176",
   "outputs": [
    {
     "data": {
      "text/plain": [
       "np.int64(0)"
      ]
     },
     "execution_count": 48,
     "metadata": {},
     "output_type": "execute_result"
    }
   ],
   "execution_count": 48
  },
  {
   "metadata": {},
   "cell_type": "code",
   "outputs": [],
   "execution_count": null,
   "source": "",
   "id": "e0321ea55ee79e90"
  }
 ],
 "metadata": {
  "kernelspec": {
   "display_name": "Python 3",
   "language": "python",
   "name": "python3"
  },
  "language_info": {
   "codemirror_mode": {
    "name": "ipython",
    "version": 2
   },
   "file_extension": ".py",
   "mimetype": "text/x-python",
   "name": "python",
   "nbconvert_exporter": "python",
   "pygments_lexer": "ipython2",
   "version": "2.7.6"
  }
 },
 "nbformat": 4,
 "nbformat_minor": 5
}
