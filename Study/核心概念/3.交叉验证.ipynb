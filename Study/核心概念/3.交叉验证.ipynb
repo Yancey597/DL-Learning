{
 "cells": [
  {
   "cell_type": "code",
   "id": "initial_id",
   "metadata": {
    "collapsed": true,
    "ExecuteTime": {
     "end_time": "2025-10-19T08:23:15.536500Z",
     "start_time": "2025-10-19T08:23:12.069486Z"
    }
   },
   "source": [
    "from sklearn.linear_model import LogisticRegression\n",
    "from sklearn.metrics import mean_squared_error\n",
    "from sklearn.pipeline import make_pipeline\n",
    "import numpy as np\n",
    "import matplotlib.pyplot as plt"
   ],
   "outputs": [],
   "execution_count": 1
  },
  {
   "metadata": {
    "ExecuteTime": {
     "end_time": "2025-10-19T08:32:44.630755Z",
     "start_time": "2025-10-19T08:32:44.468293Z"
    }
   },
   "cell_type": "code",
   "source": [
    "from sklearn.datasets import load_iris\n",
    "iris = load_iris()\n",
    "x = iris.data\n",
    "y = iris.target"
   ],
   "id": "a65954d5e58f58de",
   "outputs": [],
   "execution_count": 2
  },
  {
   "metadata": {
    "ExecuteTime": {
     "end_time": "2025-10-19T08:33:54.317632Z",
     "start_time": "2025-10-19T08:33:54.305907Z"
    }
   },
   "cell_type": "code",
   "source": [
    "from sklearn.model_selection import train_test_split, GridSearchCV\n",
    "\n",
    "x_train, x_test, y_train, y_test = train_test_split(x,y, test_size=0.3, random_state=233, stratify=y)"
   ],
   "id": "128a0dc3bd87f715",
   "outputs": [],
   "execution_count": 3
  },
  {
   "metadata": {
    "ExecuteTime": {
     "end_time": "2025-10-19T08:39:30.571542Z",
     "start_time": "2025-10-19T08:39:24.271227Z"
    }
   },
   "cell_type": "code",
   "source": [
    "from sklearn.neighbors import KNeighborsClassifier\n",
    "best_score = -1\n",
    "best_n = -1\n",
    "best_weight =\"\"\n",
    "best_p = -1\n",
    "for n in range(1,20):\n",
    "    for weight in ['distance', 'uniform']:\n",
    "        for p in range(1,7):\n",
    "            KNN = KNeighborsClassifier(\n",
    "                n_neighbors= n,\n",
    "                p = p,\n",
    "                weights = weight,\n",
    "                n_jobs=-1\n",
    "            )\n",
    "\n",
    "            KNN.fit(x_train, y_train)\n",
    "            score = KNN.score(x_test, y_test)\n",
    "            if(score > best_score):\n",
    "                best_n = n\n",
    "                best_p = p\n",
    "                best_weight = weight\n",
    "                best_score = score\n",
    "\n",
    "print(f\"best_score: {best_score}\")\n",
    "print(f\"best_n: {best_n}\")\n",
    "print(f\"best_p: {best_p}\")\n",
    "print(f\"best_weight: {best_weight}\")\n"
   ],
   "id": "b1aee791fdf62bc4",
   "outputs": [
    {
     "name": "stdout",
     "output_type": "stream",
     "text": [
      "best_score: 1.0\n",
      "best_n: 5\n",
      "best_p: 2\n",
      "best_weight: distance\n"
     ]
    }
   ],
   "execution_count": 5
  },
  {
   "metadata": {
    "ExecuteTime": {
     "end_time": "2025-10-19T08:41:14.478180Z",
     "start_time": "2025-10-19T08:41:14.445407Z"
    }
   },
   "cell_type": "code",
   "source": [
    "from sklearn.model_selection import cross_val_score\n",
    "\n",
    "KNN_ = KNeighborsClassifier()\n",
    "cv_score = cross_val_score(KNN_, x_train, y_train, cv=5)\n",
    "print(cv_score)"
   ],
   "id": "3265744a1569da38",
   "outputs": [
    {
     "name": "stdout",
     "output_type": "stream",
     "text": [
      "[0.95238095 1.         0.95238095 0.85714286 1.        ]\n"
     ]
    }
   ],
   "execution_count": 6
  },
  {
   "metadata": {
    "ExecuteTime": {
     "end_time": "2025-10-19T08:44:40.497786Z",
     "start_time": "2025-10-19T08:44:08.058085Z"
    }
   },
   "cell_type": "code",
   "source": [
    "from sklearn.neighbors import KNeighborsClassifier\n",
    "best_score = -1\n",
    "best_n = -1\n",
    "best_weight =\"\"\n",
    "best_p = -1\n",
    "best_cv_score = None\n",
    "for n in range(1,20):\n",
    "    for weight in ['distance', 'uniform']:\n",
    "        for p in range(1,7):\n",
    "            KNN = KNeighborsClassifier(\n",
    "                n_neighbors= n,\n",
    "                p = p,\n",
    "                weights = weight,\n",
    "                n_jobs=-1\n",
    "            )\n",
    "\n",
    "            cv_score = cross_val_score(KNN, x_train, y_train, cv=5)\n",
    "            score = np.mean(cv_score)\n",
    "            if(score > best_score):\n",
    "                best_n = n\n",
    "                best_p = p\n",
    "                best_weight = weight\n",
    "                best_score = score\n",
    "                best_cv_score = cv_score\n",
    "print(f\"best_score: {best_score}\")\n",
    "print(f\"best_n: {best_n}\")\n",
    "print(f\"best_p: {best_p}\")\n",
    "print(f\"best_weight: {best_weight}\")\n",
    "print(f\"best_cv_score: {best_cv_score}\")\n"
   ],
   "id": "2702ccb7034f5850",
   "outputs": [
    {
     "name": "stdout",
     "output_type": "stream",
     "text": [
      "best_score: 0.961904761904762\n",
      "best_n: 9\n",
      "best_p: 2\n",
      "best_weight: distance\n",
      "best_cv_score: [1.         1.         0.95238095 0.85714286 1.        ]\n"
     ]
    }
   ],
   "execution_count": 9
  },
  {
   "metadata": {
    "ExecuteTime": {
     "end_time": "2025-10-19T08:48:13.864065Z",
     "start_time": "2025-10-19T08:48:13.857475Z"
    }
   },
   "cell_type": "code",
   "source": [
    "from sklearn.model_selection import GridSearchCV\n",
    "\n",
    "params = {\n",
    "    \"n_neighbors\": [n for n in range(1,20)],\n",
    "    \"weights\": ['distance', 'uniform'],\n",
    "    'p' : [p for p in range(1,7)],\n",
    "    'n_jobs':[-1]\n",
    "}\n",
    "\n",
    "grid = GridSearchCV(\n",
    "    estimator= KNeighborsClassifier(),\n",
    "    param_grid =params,\n",
    "    n_jobs=-1\n",
    ")"
   ],
   "id": "b73df80f7fe5789f",
   "outputs": [],
   "execution_count": 14
  },
  {
   "metadata": {
    "ExecuteTime": {
     "end_time": "2025-10-19T08:50:23.342767Z",
     "start_time": "2025-10-19T08:50:19.468197Z"
    }
   },
   "cell_type": "code",
   "source": [
    "grid.fit(x_train, y_train)\n",
    "grid.best_score_"
   ],
   "id": "8bd0dfbdebafe5a2",
   "outputs": [
    {
     "data": {
      "text/plain": [
       "np.float64(0.961904761904762)"
      ]
     },
     "execution_count": 16,
     "metadata": {},
     "output_type": "execute_result"
    }
   ],
   "execution_count": 16
  },
  {
   "metadata": {},
   "cell_type": "code",
   "outputs": [],
   "execution_count": null,
   "source": "",
   "id": "56d301bcdbc42f62"
  }
 ],
 "metadata": {
  "kernelspec": {
   "display_name": "Python 3",
   "language": "python",
   "name": "python3"
  },
  "language_info": {
   "codemirror_mode": {
    "name": "ipython",
    "version": 2
   },
   "file_extension": ".py",
   "mimetype": "text/x-python",
   "name": "python",
   "nbconvert_exporter": "python",
   "pygments_lexer": "ipython2",
   "version": "2.7.6"
  }
 },
 "nbformat": 4,
 "nbformat_minor": 5
}
